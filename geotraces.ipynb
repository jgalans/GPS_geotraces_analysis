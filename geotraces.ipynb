{
 "cells": [
  {
   "cell_type": "markdown",
   "metadata": {},
   "source": [
    "# Geotraces"
   ]
  },
  {
   "cell_type": "code",
   "execution_count": null,
   "metadata": {},
   "outputs": [],
   "source": [
    "import pandas as pd \n",
    "from time import time"
   ]
  },
  {
   "cell_type": "markdown",
   "metadata": {},
   "source": [
    "## Dos métodos diferentes para obtener la distancia Haversine entre dos puntos sobre la superficie terrestre"
   ]
  },
  {
   "cell_type": "code",
   "execution_count": null,
   "metadata": {},
   "outputs": [],
   "source": [
    "from math import radians, cos, sin, asin, sqrt\n",
    "def haversine(lon1, lat1, lon2, lat2):\n",
    "    \"\"\"\n",
    "    Calculate the great circle distance between two points \n",
    "    on the earth (specified in decimal degrees)\n",
    "    \"\"\"\n",
    "    # convert decimal degrees to radians \n",
    "    lon1, lat1, lon2, lat2 = map(radians, [lon1, lat1, lon2, lat2])\n",
    "    # haversine formula \n",
    "    dlon = lon2 - lon1 \n",
    "    dlat = lat2 - lat1 \n",
    "    a = sin(dlat/2)**2 + cos(lat1) * cos(lat2) * sin(dlon/2)**2\n",
    "    c = 2 * asin(sqrt(a)) \n",
    "    print(c)\n",
    "    # Radius of earth in kilometers is 6371\n",
    "    km = 6371 * c\n",
    "    return km"
   ]
  },
  {
   "cell_type": "code",
   "execution_count": null,
   "metadata": {},
   "outputs": [],
   "source": [
    "haversine(-3.8196207, 40.4381311, -3.6503509, 40.5327412)"
   ]
  },
  {
   "cell_type": "code",
   "execution_count": null,
   "metadata": {},
   "outputs": [],
   "source": [
    "from math import radians, degrees, sin, cos, asin, acos, sqrt\n",
    "def great_circle(lon1, lat1, lon2, lat2):\n",
    "    #print(lon1, lat1, lon2, lat2)\n",
    "    lon1, lat1, lon2, lat2 = map(radians, [lon1, lat1, lon2, lat2])\n",
    "    a=sin(lat1) * sin(lat2) + cos(lat1) * cos(lat2) * cos(lon1 - lon2)\n",
    "    if a>1:\n",
    "        a=1\n",
    "    a=acos(a)\n",
    "    return 6371 *a\n",
    "    #return 6371 * (\n",
    "    #    acos(sin(lat1) * sin(lat2) + cos(lat1) * cos(lat2) * cos(lon1 - lon2))\n",
    "    #)"
   ]
  },
  {
   "cell_type": "code",
   "execution_count": null,
   "metadata": {},
   "outputs": [],
   "source": [
    "great_circle(-3.8196207, 40.4381311, -3.6503509, 40.5327412)"
   ]
  },
  {
   "cell_type": "markdown",
   "metadata": {},
   "source": [
    "Método para conectar puntos consecutivos obteniendo la velocidad media entre ambos"
   ]
  },
  {
   "cell_type": "code",
   "execution_count": null,
   "metadata": {},
   "outputs": [],
   "source": [
    "def puntos_a_caminos(d):\n",
    "    caminos=[]\n",
    "    time_total=0\n",
    "    dist_total=0\n",
    "    speed=0\n",
    "    for idx, row in d.iterrows():\n",
    "        if idx>0:\n",
    "            dist = great_circle(d.iloc[idx,5], d.iloc[idx,4], d.iloc[idx-1,5], d.iloc[idx-1,4])\n",
    "            time = d.iloc[idx,0] - d.iloc[idx-1,0]\n",
    "            if time>0:  # if time==0, speed=previous_speed\n",
    "                speed = dist/time*3600  # conversion form seconds to hours\n",
    "            time_total+=time\n",
    "            dist_total+=dist\n",
    "            accur = (d.iloc[idx, 6] + d.iloc[idx-1,6])/2\n",
    "            offset = (d.iloc[idx, 7] + d.iloc[idx-1,7])/2\n",
    "            caminos.append([dist, time, speed, accur, offset])\n",
    "    d = pd.DataFrame(caminos, columns = ['Distance', 'Time (s)', 'Speed (km/h)', 'Accuracy', 'Offset']) \n",
    "    return d"
   ]
  },
  {
   "cell_type": "markdown",
   "metadata": {},
   "source": [
    "# 1 user test"
   ]
  },
  {
   "cell_type": "code",
   "execution_count": null,
   "metadata": {},
   "outputs": [],
   "source": [
    "start_time = time()\n",
    "#-----------------------------------------------------------------\n",
    "# read csv\n",
    "filename = './users_Madrid/39.csv'\n",
    "df = pd.read_csv(filename, sep = '\\t')\n",
    "#-----------------------------------------------------------------\n",
    "total_time = time() - start_time\n",
    "print(str(total_time) + \" segundos\")"
   ]
  },
  {
   "cell_type": "code",
   "execution_count": null,
   "metadata": {},
   "outputs": [],
   "source": [
    "df.head(21)"
   ]
  },
  {
   "cell_type": "code",
   "execution_count": null,
   "metadata": {},
   "outputs": [],
   "source": [
    "puntos_a_caminos(df)"
   ]
  },
  {
   "cell_type": "markdown",
   "metadata": {},
   "source": [
    "### Printing with folium"
   ]
  },
  {
   "cell_type": "code",
   "execution_count": null,
   "metadata": {},
   "outputs": [],
   "source": [
    "from datetime import datetime\n",
    "import folium\n",
    "from IPython.display import display"
   ]
  },
  {
   "cell_type": "code",
   "execution_count": null,
   "metadata": {},
   "outputs": [],
   "source": [
    "#Funcion para dibujar las velocidades en el camino con diferentes colores\n",
    "def speed_color(speed):\n",
    "    if speed < 0:\n",
    "        raise ValueError\n",
    "    elif speed >= 0 and speed < 5:\n",
    "        return 'red'\n",
    "    elif speed >= 10 and speed < 60:\n",
    "        return 'yellow'\n",
    "    else:\n",
    "        return 'green'"
   ]
  },
  {
   "cell_type": "code",
   "execution_count": null,
   "metadata": {},
   "outputs": [],
   "source": [
    "userID = df['Device ID'][0]\n",
    "\n",
    "#styles = [\"Stamen Terrain\", \"Stamen Toner\", \"Mapbox Bright\"]\n",
    "points = df.head(47)\n",
    "ways = puntos_a_caminos(df)\n",
    "center = [40.4167278, -3.7033387] # Puerta del Sol (Madrid)\n",
    "m = folium.Map(location=[center[0], center[1]], zoom_start=12)\n",
    "    \n",
    "for i in range(len(points)-1) : \n",
    "    dt_object = points.iloc[i, 1] \n",
    "    #Obtenemos dos ubicaciones para poder ir dibujando la linea que los une (poligono)\n",
    "    p1 = [points.iloc[i, 4], points.iloc[i, 5]]\n",
    "    p2 = [points.iloc[i+1, 4], points.iloc[i+1, 5]]\n",
    "    speed = round(ways['Speed (km/h)'][i], 2) #Redondeamos los decimales de la velocidad\n",
    "    folium.PolyLine(locations=[p1, p2], color=speed_color(speed), tooltip=str(speed) +' km/h').add_to(m)\n",
    "    if i==0:\n",
    "        folium.Marker(location=p1,popup= 'Punto de inicio: ' + str(dt_object), icon=folium.Icon(color='green')\n",
    "                 ).add_to(m)\n",
    "    elif i == len(points)-2:\n",
    "        folium.Marker(location=p2,popup= 'Punto final: ' + str(dt_object), icon=folium.Icon(color='red')\n",
    "                 ).add_to(m)\n",
    "    else:\n",
    "        folium.Circle(radius=20,location=p1,popup=dt_object,color='orange',\n",
    "                 ).add_to(m)\n",
    "        \n",
    "display(m)"
   ]
  },
  {
   "cell_type": "code",
   "execution_count": null,
   "metadata": {},
   "outputs": [],
   "source": []
  },
  {
   "cell_type": "markdown",
   "metadata": {},
   "source": [
    "# N users"
   ]
  },
  {
   "cell_type": "code",
   "execution_count": null,
   "metadata": {},
   "outputs": [],
   "source": [
    "import glob"
   ]
  },
  {
   "cell_type": "code",
   "execution_count": null,
   "metadata": {},
   "outputs": [],
   "source": [
    "start_time = time()\n",
    "#-----------------------------------------------------------------\n",
    "\n",
    "path = './users_Baleares_tags' # use your path\n",
    "all_files = glob.glob(path + \"/*.csv\")\n",
    "\n",
    "for csv_user in all_files:\n",
    "    df_aux = pd.read_csv(csv_user, sep = '\\t')\n",
    "    user = csv_user.split('/')[-1]\n",
    "    \n",
    "    speed = puntos_a_caminos(df_aux)['Speed (km/h)']\n",
    "    df_aux['Speed (km/h)'] = 0\n",
    "    for i, row in df_aux.iterrows():\n",
    "        if i>0:\n",
    "             df_aux.iloc[i,-1] = speed[i-1]\n",
    "    df_aux.to_csv(\"./users_Baleares_tags_speed/\"+user, sep='\\t', index=False)\n",
    "                \n",
    "#-----------------------------------------------------------------\n",
    "total_time = time() - start_time\n",
    "print(str(total_time) + \" segundos\")"
   ]
  },
  {
   "cell_type": "markdown",
   "metadata": {},
   "source": [
    "### Plot clustering 1 user"
   ]
  },
  {
   "cell_type": "code",
   "execution_count": null,
   "metadata": {},
   "outputs": [],
   "source": [
    "import matplotlib.pyplot as plt\n",
    "from sklearn.cluster import KMeans\n",
    "import numpy as np\n",
    "%matplotlib inline\n",
    "# define the number of kilometers in one radian\n",
    "kms_per_radian = 6371.0088"
   ]
  },
  {
   "cell_type": "code",
   "execution_count": null,
   "metadata": {},
   "outputs": [],
   "source": [
    "start_time = time()\n",
    "#-----------------------------------------------------------------\n",
    "# read csv\n",
    "df = pd.read_csv('./users_Madrid_speed/9684.csv', sep = '\\t')\n",
    "#-----------------------------------------------------------------\n",
    "total_time = time() - start_time\n",
    "print(str(total_time) + \" segundos\")"
   ]
  },
  {
   "cell_type": "code",
   "execution_count": null,
   "metadata": {},
   "outputs": [],
   "source": [
    "len(df)"
   ]
  },
  {
   "cell_type": "code",
   "execution_count": null,
   "metadata": {},
   "outputs": [],
   "source": [
    "df_cluster = df[['Latitude','Longitude']]"
   ]
  },
  {
   "cell_type": "code",
   "execution_count": null,
   "metadata": {},
   "outputs": [],
   "source": [
    "kmeans = KMeans(n_clusters=2).fit(df_cluster)\n",
    "centroids = kmeans.cluster_centers_\n",
    "print(centroids)\n",
    "\n",
    "plt.scatter(df_cluster['Longitude'], df_cluster['Latitude'],c=kmeans.labels_.astype(float), s=1, alpha=0.8)\n",
    "plt.scatter(centroids[:, 1], centroids[:, 0], c='red', s=50)"
   ]
  },
  {
   "cell_type": "code",
   "execution_count": null,
   "metadata": {},
   "outputs": [],
   "source": [
    "# scatterplot it to get a sense of what it looks like\n",
    "df_cluster = df_cluster.sort_values(by=['Latitude', 'Longitude'])\n",
    "ax = df_cluster.plot(kind='scatter', x='Longitude', y='Latitude', alpha=0.5, linewidth=0)"
   ]
  },
  {
   "cell_type": "code",
   "execution_count": null,
   "metadata": {},
   "outputs": [],
   "source": []
  },
  {
   "cell_type": "code",
   "execution_count": null,
   "metadata": {},
   "outputs": [],
   "source": []
  },
  {
   "cell_type": "markdown",
   "metadata": {},
   "source": [
    "# Detección de estados de Markov"
   ]
  },
  {
   "cell_type": "markdown",
   "metadata": {},
   "source": [
    "#### El obj"
   ]
  },
  {
   "cell_type": "code",
   "execution_count": null,
   "metadata": {},
   "outputs": [],
   "source": [
    "from time import time\n",
    "from datetime import datetime\n",
    "import numpy as np\n",
    "import matplotlib.pyplot as plt\n",
    "import pandas as pd\n",
    "import glob\n",
    "import math"
   ]
  },
  {
   "cell_type": "code",
   "execution_count": null,
   "metadata": {},
   "outputs": [],
   "source": [
    "states_id = ['En reposo', 'Andando', 'Bus', 'Tren', 'Coche']\n",
    "def get_Markov_states(df):\n",
    "    if len(df)<2:\n",
    "        return []\n",
    "    states = [[str(df.iloc[0, 1].hour) + ':' + str(df.iloc[0, 1].minute) , 'En reposo', \n",
    "               get_mins(df.iloc[1, 0] - df.iloc[0, 0])]]\n",
    "    all_states = [[str(df.iloc[0, 1].hour) + ':' + str(df.iloc[0, 1].minute) , 'En reposo', \n",
    "               get_mins(df.iloc[1, 0] - df.iloc[0, 0])]]\n",
    "    speeds = []\n",
    "    sum_time = 0\n",
    "    \n",
    "    # Reseteamos los indices\n",
    "    df = df.reset_index(drop=True)\n",
    "    for i, row in df.iterrows():\n",
    "        if i+1 == len(df): break\n",
    "        speed = row['Speed (km/h)']\n",
    "        time = str(df.iloc[i, 1].hour) + ':' + str(df.iloc[i, 1].minute)\n",
    "        time_length = get_mins(df.iloc[i+1, 0] - df.iloc[i, 0])\n",
    "        \n",
    "        # STOPPED\n",
    "        if speed < 2.78: \n",
    "            if all_states[-1][1] != 'En reposo':\n",
    "                states.append([time, 'En reposo', time_length])\n",
    "            else: \n",
    "                states[-1][2] += time_length\n",
    "            all_states.append([time, 'En reposo', time_length])\n",
    "        # WALK\n",
    "        elif speed <= 8:\n",
    "            if all_states[-1][1] != 'Andando':\n",
    "                states.append([time, 'Andando', time_length])\n",
    "            else: \n",
    "                states[-1][2] += time_length\n",
    "            all_states.append([time, 'Andando', time_length])\n",
    "        # TRAIN\n",
    "        elif ((row['Train'] == True and speed > 8) \n",
    "            or (all_states[-1][1] == 'Tren' and speed > 8)):\n",
    "            if all_states[-1][1] != 'Tren':\n",
    "                states.append([time, 'Tren', time_length])\n",
    "            else: \n",
    "                states[-1][2] += time_length\n",
    "            all_states.append([time, 'Tren', time_length])\n",
    "        # BUS\n",
    "        elif ((row['Bus'] == True and speed > 8) \n",
    "            or (all_states[-1][1] == 'Bus' and speed > 8)):\n",
    "            if all_states[-1][1] != 'Bus':\n",
    "                states.append([time, 'Bus', time_length])\n",
    "            else: \n",
    "                states[-1][2] += time_length\n",
    "            all_states.append([time, 'Bus', time_length])\n",
    "        # CAR\n",
    "        elif speed > 15 or row['Fuel Station'] == True or (all_states[-1][1] == 'Coche' and speed > 15):\n",
    "            if all_states[-1][1] != 'Coche':\n",
    "                states.append([time, 'Coche', time_length])\n",
    "            else: \n",
    "                states[-1][2] += time_length\n",
    "            all_states.append([time, 'Coche', time_length])\n",
    "    return states\n",
    "\n",
    "def update_transition_matrix(matrix, transitions):\n",
    "    if len(transitions)>1:\n",
    "        for i in range(len(transitions)-1):\n",
    "            matrix.loc[transitions[i][1], transitions[i+1][1]] += 1\n",
    "            \n",
    "def calculate_prob(matrix):\n",
    "    for i in matrix.index:\n",
    "        total = matrix.loc[i, :].sum()\n",
    "        for j in matrix.columns:\n",
    "            # Usamos estimador bayesiano\n",
    "            if total != 0:\n",
    "                matrix.loc[i, j] = (matrix.loc[i, j] + 1) / (total + len(states_id))\n",
    "            else:\n",
    "                matrix.loc[i, j] = 0\n",
    "            \n",
    "def get_mins(tstmp):\n",
    "    mins = math.floor(tstmp/60)\n",
    "    return mins"
   ]
  },
  {
   "cell_type": "code",
   "execution_count": null,
   "metadata": {
    "scrolled": true
   },
   "outputs": [],
   "source": [
    "start_time = time()\n",
    "#-----------------------------------------------------------------\n",
    "\n",
    "print_figures = False\n",
    "\n",
    "matrix_by_user = {}\n",
    "\n",
    "# Matriz de transicion del usuario vacia\n",
    "total_transition_matrix = pd.DataFrame(0, index=states_id, columns=states_id)\n",
    "\n",
    "path = './users_Barcelona_tags_speed' # use your path\n",
    "all_files = glob.glob(path + \"/*.csv\")\n",
    "\n",
    "for csv_user in all_files:\n",
    "    #if csv_user == './users_Madrid_tags_speed/106180.csv':\n",
    "    df = pd.read_csv(csv_user, sep = '\\t')\n",
    "    user = csv_user.split('/')[-1]\n",
    "    user = user.split('.')[0]\n",
    "    print('User ID: '+str(user))\n",
    "\n",
    "    # Matriz de transicion del usuario vacia\n",
    "    transition_matrix = pd.DataFrame(0, index=states_id, columns=states_id)\n",
    "\n",
    "    # Se crea una columna con la fecha legible\n",
    "    df['Date Time'] = pd.to_datetime(df['Date Time'], format=\"%Y-%m-%d %H:%M:%S\")\n",
    "\n",
    "    for i in range(2, 30):\n",
    "        #Ploteamos una grafica para cada dia del mes 7 (julio)\n",
    "        df_plot = df[(df['Date Time']<datetime(2019, 7, i, 0, 0)) & (df['Date Time']>datetime(2019, 7, i-1, 0, 0))]\n",
    "\n",
    "        if len(df_plot) < 5:\n",
    "            continue\n",
    "\n",
    "        # Obtenemos las transiciones del usuario\n",
    "        states = get_Markov_states(df_plot)\n",
    "        #print(states)\n",
    "\n",
    "        # Actualizamos la matriz de transicion\n",
    "        update_transition_matrix(transition_matrix, states)\n",
    "        update_transition_matrix(total_transition_matrix, states)\n",
    "\n",
    "        if print_figures == True:\n",
    "            #Creamos el grafico\n",
    "            x = df_plot['Date Time'].tolist()\n",
    "            y = df_plot['Speed (km/h)'].tolist()\n",
    "            plt.figure(figsize=(20,5))\n",
    "            plt.step(x, y, where = 'mid', color = 'blue', linewidth = 2) \n",
    "            plt.xticks(rotation=20)\n",
    "            plt.title(datetime(2019, 7, i-1).date())\n",
    "            plt.xlabel('Hour')\n",
    "            plt.ylabel('km/h')\n",
    "            plt.ylim(0, 100)\n",
    "            plt.grid()\n",
    "\n",
    "            #BUS\n",
    "            line_bus=0\n",
    "            #Comprobamos para qué puntos hay True en tag=Bus\n",
    "            df_bus = df_plot[df_plot['Bus']==True]\n",
    "            if df_bus.empty == False:\n",
    "                #Generamos linea ROJA discontinua para puntos que tienen tag_bus = True\n",
    "                for index, item in enumerate(x):\n",
    "                    if item in df_bus['Date Time'].tolist():\n",
    "                        line_bus = plt.axvline(x[index], color='g', ls=\"dotted\", linewidth = 3)\n",
    "                line_bus.set_label('Bus stop')\n",
    "\n",
    "            #TRAIN\n",
    "            line_train=0\n",
    "            #Comprobamos para qué puntos hay True en tag=Train\n",
    "            df_train = df_plot[df_plot['Train']==True]\n",
    "            if df_train.empty == False:\n",
    "                #Generamos linea ROJA discontinua para puntos que tienen tag_bus = True\n",
    "                for index, item in enumerate(x):\n",
    "                    if item in df_train['Date Time'].tolist():\n",
    "                        line_train = plt.axvline(x[index], color='m', ls=\"dotted\", linewidth = 3)\n",
    "                line_train.set_label('Train station')\n",
    "\n",
    "            #Fuel Station\n",
    "            #Comprobamos para qué puntos hay True en tag=Fuel Station\n",
    "            df_fuelst = df_plot[df_plot['Fuel Station']==True]\n",
    "            if df_fuelst.empty == False:\n",
    "                #Generamos linea ROJA discontinua para puntos que tienen tag_bus = True\n",
    "                for index, item in enumerate(x):\n",
    "                    if item in df_fuelst['Date Time'].tolist():\n",
    "                        line_fuel = plt.axvline(x[index], color='r', ls=\"dotted\", linewidth = 3)\n",
    "                line_fuel.set_label('Fuel Station')\n",
    "\n",
    "            plt.legend(loc='best', borderaxespad=0)\n",
    "\n",
    "            plt.show()\n",
    "\n",
    "    calculate_prob(transition_matrix)\n",
    "    matrix_by_user[user] = transition_matrix\n",
    "    #print(transition_matrix)\n",
    "    #print('\\n')\n",
    "    \n",
    "calculate_prob(total_transition_matrix)\n",
    "print('\\nMatriz de transición del conjunto total de usuarios:')\n",
    "print(total_transition_matrix)\n",
    "\n",
    "#-----------------------------------------------------------------\n",
    "total_time = time() - start_time\n",
    "print(str(total_time) + \" segundos\")"
   ]
  },
  {
   "cell_type": "markdown",
   "metadata": {},
   "source": [
    "## Cálculo de la distribución estacionaria"
   ]
  },
  {
   "cell_type": "markdown",
   "metadata": {},
   "source": [
    "### Método 1: Cálculo de la potencia n de la matriz de transición para conocer el estado estacionario"
   ]
  },
  {
   "cell_type": "code",
   "execution_count": null,
   "metadata": {},
   "outputs": [],
   "source": [
    "def get_stable_matrix(transition_matrix):\n",
    "    # Pasamos la matriz a un array en numpy\n",
    "    matriz = transition_matrix.to_numpy()\n",
    "    n=500\n",
    "    pn=np.linalg.matrix_power(matriz, n)\n",
    "    return pn"
   ]
  },
  {
   "cell_type": "code",
   "execution_count": null,
   "metadata": {},
   "outputs": [],
   "source": [
    "# Obtenemos los vectores estacionarios de todos los usuarios\n",
    "cluster_data = []\n",
    "for m in matrix_by_user.values():\n",
    "    bandera = True\n",
    "    M = get_stable_matrix(m)\n",
    "    for i in M:\n",
    "        if round(i.sum()) != 1:\n",
    "            bandera = False\n",
    "            continue\n",
    "    if bandera:\n",
    "        cluster_data.append(M[0])\n",
    "cluster_data"
   ]
  },
  {
   "cell_type": "markdown",
   "metadata": {},
   "source": [
    "### Método 2: Resolución de la ecuación de distribución estacionaria"
   ]
  },
  {
   "cell_type": "code",
   "execution_count": null,
   "metadata": {},
   "outputs": [],
   "source": [
    "def get_stable_state(transition_matrix):\n",
    "    # Resolviendo por matrices A = (AT-I) y el vector de ceros terminado en 1\n",
    "    matriz = transition_matrix.to_numpy()\n",
    "    k=len(matriz)\n",
    "    A=matriz.transpose()\n",
    "    A=A-np.identity(k, dtype=int)\n",
    "    # la última fila se sustituye por la suma de probabilidades\n",
    "    A[-1,:]=np.ones(k,dtype=int)\n",
    "    B=np.zeros(k,dtype=int)\n",
    "    B[-1]=1  # el último\n",
    "    Pncalc=np.linalg.solve(A,B)\n",
    "    #print('largo plazo')\n",
    "    #print(Pncalc)\n",
    "    return Pncalc"
   ]
  },
  {
   "cell_type": "markdown",
   "metadata": {},
   "source": [
    "## Obtenemos los vectores estacionarios de cada usuario"
   ]
  },
  {
   "cell_type": "code",
   "execution_count": null,
   "metadata": {},
   "outputs": [],
   "source": [
    "# Obtenemos los vectores estacionarios de todos los usuarios\n",
    "cluster_data = []\n",
    "for m in matrix_by_user.values():\n",
    "    bandera = True\n",
    "    v = get_stable_state(m)\n",
    "    for i in v:\n",
    "        if i == 0:\n",
    "            bandera = False\n",
    "            continue\n",
    "    if bandera:\n",
    "        cluster_data.append(v.tolist())\n",
    "cluster_data"
   ]
  },
  {
   "cell_type": "markdown",
   "metadata": {},
   "source": [
    "## Clustering de vectores estacionarios"
   ]
  },
  {
   "cell_type": "code",
   "execution_count": null,
   "metadata": {},
   "outputs": [],
   "source": [
    "import matplotlib.pyplot as plt\n",
    "from sklearn.cluster import KMeans"
   ]
  },
  {
   "cell_type": "code",
   "execution_count": null,
   "metadata": {},
   "outputs": [],
   "source": [
    "Sum_of_squared_distances = []\n",
    "K = range(1,15)\n",
    "for k in K:\n",
    "    km = KMeans(n_clusters=k, random_state=0)\n",
    "    km = km.fit(cluster_data)\n",
    "    Sum_of_squared_distances.append(km.inertia_)"
   ]
  },
  {
   "cell_type": "code",
   "execution_count": null,
   "metadata": {},
   "outputs": [],
   "source": [
    "plt.plot(K, Sum_of_squared_distances, 'bx-')\n",
    "plt.xlabel('Número de clusters')\n",
    "plt.ylabel('SSE')\n",
    "plt.title('Elbow Method')\n",
    "plt.show()"
   ]
  },
  {
   "cell_type": "code",
   "execution_count": null,
   "metadata": {},
   "outputs": [],
   "source": [
    "kmeans = KMeans(n_clusters=4, random_state=0).fit(cluster_data)\n",
    "centroids = kmeans.cluster_centers_\n",
    "#print(centroids)\n",
    "#print(kmeans.labels_)\n",
    "\n",
    "state_X = 0\n",
    "state_Y = 1\n",
    "\n",
    "X = []\n",
    "Y = []\n",
    "for user in cluster_data:\n",
    "    X.append(user[state_X])\n",
    "    Y.append(user[state_Y])\n",
    "\n",
    "plt.scatter(X, Y, s=10, alpha=0.8, c=kmeans.labels_.astype(float))\n",
    "plt.scatter(centroids[:, state_X], centroids[:, state_Y], c =range(len(centroids)), s=100)\n",
    "plt.xlabel('Probabilidad del estado: '+states_id[state_X])\n",
    "plt.ylabel('Probabilidad del estado: '+states_id[state_Y])\n",
    "plt.show()"
   ]
  },
  {
   "cell_type": "code",
   "execution_count": null,
   "metadata": {
    "scrolled": true
   },
   "outputs": [],
   "source": [
    "list(zip(cluster_data, kmeans.labels_))\n",
    "#[0 1 1 3 1 3 1 1 3 3 2 1 3 1 3 1 1 1 2 2 2 1 3 1 1 3 2 0 3 1 3 2 3 2 0 1 0\n",
    "# 1 3 1 3 3 1 1]"
   ]
  },
  {
   "cell_type": "markdown",
   "metadata": {},
   "source": [
    "## Clustering sobre mapa "
   ]
  },
  {
   "cell_type": "code",
   "execution_count": null,
   "metadata": {},
   "outputs": [],
   "source": [
    "import matplotlib.pyplot as plt\n",
    "from sklearn.cluster import KMeans\n",
    "import numpy as np\n",
    "%matplotlib inline\n",
    "# define the number of kilometers in one radian\n",
    "kms_per_radian = 6371.0088"
   ]
  },
  {
   "cell_type": "code",
   "execution_count": null,
   "metadata": {},
   "outputs": [],
   "source": [
    "start_time = time()\n",
    "#-----------------------------------------------------------------\n",
    "# read csv\n",
    "df_raw = pd.read_csv('./users_Madrid_tags_speed/17057.csv', sep = '\\t')\n",
    "# Se añade la columna Date Time para la fecha en formato legible\n",
    "df['Date Time'] = pd.to_datetime(df['Date Time'], format=\"%Y-%m-%d %H:%M:%S\")\n",
    "#-----------------------------------------------------------------\n",
    "total_time = time() - start_time\n",
    "print(str(total_time) + \" segundos\")"
   ]
  },
  {
   "cell_type": "code",
   "execution_count": null,
   "metadata": {},
   "outputs": [],
   "source": [
    "mapa = plt.imread('./map.png')"
   ]
  },
  {
   "cell_type": "code",
   "execution_count": null,
   "metadata": {},
   "outputs": [],
   "source": [
    "BBox = (-3.9087, -3.4555, 40.3311, 40.5313)"
   ]
  },
  {
   "cell_type": "code",
   "execution_count": null,
   "metadata": {},
   "outputs": [],
   "source": [
    "fig, ax = plt.subplots(figsize = (15,8))\n",
    "\n",
    "ax.scatter(df_raw.Longitude, df_raw.Latitude, zorder=1, alpha= 0.8, c='b', s=10)\n",
    "ax.set_title('Plotting Madrid Data')\n",
    "ax.set_xlim(BBox[0], BBox[1])\n",
    "ax.set_ylim(BBox[2], BBox[3])\n",
    "\n",
    "ax.imshow(mapa, zorder=0, extent = BBox, aspect= 'equal')"
   ]
  },
  {
   "cell_type": "code",
   "execution_count": null,
   "metadata": {},
   "outputs": [],
   "source": [
    "df_cluster = df_raw[['Latitude','Longitude']]\n",
    "kmeans = KMeans(n_clusters=3).fit(df_cluster)\n",
    "centroids = kmeans.cluster_centers_\n",
    "print(centroids)\n",
    "\n",
    "plt.scatter(df_raw.Longitude, df_raw.Latitude, c=kmeans.labels_.astype(float), s=1, alpha=0.8)\n",
    "plt.scatter(centroids[:, 1], centroids[:, 0], c='red', s=50)"
   ]
  },
  {
   "cell_type": "code",
   "execution_count": null,
   "metadata": {},
   "outputs": [],
   "source": []
  },
  {
   "cell_type": "code",
   "execution_count": null,
   "metadata": {},
   "outputs": [],
   "source": []
  }
 ],
 "metadata": {
  "kernelspec": {
   "display_name": "Python 3",
   "language": "python",
   "name": "python3"
  },
  "language_info": {
   "codemirror_mode": {
    "name": "ipython",
    "version": 3
   },
   "file_extension": ".py",
   "mimetype": "text/x-python",
   "name": "python",
   "nbconvert_exporter": "python",
   "pygments_lexer": "ipython3",
   "version": "3.7.4"
  }
 },
 "nbformat": 4,
 "nbformat_minor": 2
}
