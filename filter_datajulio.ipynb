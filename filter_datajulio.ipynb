{
 "cells": [
  {
   "cell_type": "code",
   "execution_count": null,
   "metadata": {},
   "outputs": [],
   "source": [
    "import numpy as np \n",
    "import pandas as pd \n",
    "import math \n",
    "from sklearn import preprocessing\n",
    "import gmplot\n",
    "import matplotlib.pyplot as plt\n",
    "from time import time\n",
    "import operator\n",
    "from datetime import datetime"
   ]
  },
  {
   "cell_type": "code",
   "execution_count": null,
   "metadata": {},
   "outputs": [],
   "source": [
    "from geopy.geocoders import Nominatim\n",
    "import overpass\n",
    "import folium\n",
    "from folium import plugins\n",
    "from folium.plugins import HeatMap"
   ]
  },
  {
   "cell_type": "code",
   "execution_count": null,
   "metadata": {},
   "outputs": [],
   "source": [
    "# dataframe con device ids legibles\n",
    "def device_ids_encoder(d):\n",
    "    le = preprocessing.LabelEncoder()\n",
    "    simple_ids=le.fit_transform(d['Device ID'].astype(str))    \n",
    "    d['Device ID'] = simple_ids  \n",
    "    return d\n",
    "\n",
    "# punto medio de un usuario\n",
    "def avg_location(d, user):\n",
    "\tj=0\n",
    "\tcoords = [0, 0]\n",
    "\tfor index, row in d.iterrows():\n",
    "\t\tif row['Device ID']==user:\n",
    "\t\t\tcoords[0] += float(row['Latitude'])\n",
    "\t\t\tcoords[1] += float(row['Longitude'])\n",
    "\t\t\tj += 1\n",
    "\n",
    "\tcoords[0] = coords[0]/j;\n",
    "\tcoords[1] = coords[1]/j;\n",
    "\treturn coords\n",
    "\n",
    "#Se obtiene un diccionario cuya clave es el user ID y el valor es un dataframe con las localizaciones del usuario\n",
    "def get_info_by_user(d):\n",
    "\tusers={}\n",
    "\tdf = dict()\n",
    "    \n",
    "\tfor idx, row in d.iterrows():\n",
    "\t\tif row['Device ID'] not in users:\n",
    "\t\t\tdf=d[d['Device ID']==row['Device ID']]\n",
    "\t\t\tusers[row['Device ID']] = df\n",
    "            \n",
    "#Ordenamos todas las localizaciones de cada usuario en el tiempo\n",
    "\tfor k,v in users.items():\n",
    "\t\tusers[k].sort_values(by=['Time Stamp'])\n",
    "\t\tusers[k].reset_index(drop=True)\n",
    "            \n",
    "\treturn users\n",
    "\n",
    "# top n de usuarios por numero de localizaciones\n",
    "def top_n_users(users, n):\n",
    "\tusers_num_locations = {}\n",
    "\tusers_top_n = {}\n",
    "\ti=0\n",
    "\n",
    "\tfor k,v in users.items():\n",
    "\t\tusers_num_locations[k] = len(v)\n",
    "\n",
    "\tusers_num_locations = dict(sorted(users_num_locations.items(), key=operator.itemgetter(1), reverse=True))\n",
    "    \n",
    "\tfor k,v in users_num_locations.items():\n",
    "\t\tif i==n:\n",
    "\t\t\tbreak\n",
    "\t\tusers_top_n[k] = users[k]\n",
    "\t\ti+=1\n",
    "    \n",
    "\treturn users_top_n"
   ]
  },
  {
   "cell_type": "markdown",
   "metadata": {},
   "source": [
    "### Getting data from csv"
   ]
  },
  {
   "cell_type": "code",
   "execution_count": null,
   "metadata": {},
   "outputs": [],
   "source": [
    "start_time = time()\n",
    "#-----------------------------------------------------------------\n",
    "df_raw = pd.read_csv('datajulio.csv', sep = ',',header=0, index_col=0)\n",
    "#-----------------------------------------------------------------\n",
    "total_time = time() - start_time\n",
    "print(str(total_time) + \" segundos\")"
   ]
  },
  {
   "cell_type": "code",
   "execution_count": null,
   "metadata": {},
   "outputs": [],
   "source": [
    "len(df_raw)"
   ]
  },
  {
   "cell_type": "code",
   "execution_count": null,
   "metadata": {},
   "outputs": [],
   "source": [
    "df=df_raw\n",
    "df.drop_duplicates(keep=False,inplace=True) # eliminamos filas repetidas (no aportan informacion)\n",
    "df.rename(columns={'offset':'Offset'}, inplace=True)\n",
    "len(df)"
   ]
  },
  {
   "cell_type": "code",
   "execution_count": null,
   "metadata": {},
   "outputs": [],
   "source": [
    "print(\"\\nDataset original:\")\n",
    "df.head()"
   ]
  },
  {
   "cell_type": "code",
   "execution_count": null,
   "metadata": {},
   "outputs": [],
   "source": [
    "# encoding ids\n",
    "df=device_ids_encoder(df)\n",
    "df.head()"
   ]
  },
  {
   "cell_type": "code",
   "execution_count": null,
   "metadata": {},
   "outputs": [],
   "source": [
    "df.head(2)"
   ]
  },
  {
   "cell_type": "markdown",
   "metadata": {},
   "source": [
    "## Filtrado de fechas [2019-07-01 11:00:58, 2019-08-01 23:59:59]"
   ]
  },
  {
   "cell_type": "code",
   "execution_count": null,
   "metadata": {},
   "outputs": [],
   "source": [
    "print(datetime.fromtimestamp(df['Time Stamp'].max()))\n",
    "print(datetime.fromtimestamp(df['Time Stamp'].min()))\n",
    "#df.nlargest(100, ['Time Stamp'])"
   ]
  },
  {
   "cell_type": "code",
   "execution_count": null,
   "metadata": {},
   "outputs": [],
   "source": [
    "date_time_str='2019-07-01 00:00:00'\n",
    "date = datetime.strptime(date_time_str, '%Y-%m-%d %H:%M:%S')\n",
    "timestamp_floor = datetime.timestamp(date)\n",
    "#--------------------------------------------------------------\n",
    "date_time_str='2019-08-01 00:00:00'\n",
    "date = datetime.strptime(date_time_str, '%Y-%m-%d %H:%M:%S')\n",
    "timestamp_roof = datetime.timestamp(date)\n",
    "#--------------------------------------------------------------\n",
    "df = df[(df['Time Stamp']>=timestamp_floor) & (df['Time Stamp']<=timestamp_roof)]\n",
    "len(df)"
   ]
  },
  {
   "cell_type": "code",
   "execution_count": null,
   "metadata": {},
   "outputs": [],
   "source": [
    "len(df['Device ID'].unique())"
   ]
  },
  {
   "cell_type": "markdown",
   "metadata": {},
   "source": [
    "## Filtrado de usuarios por región usando NOMINATIM"
   ]
  },
  {
   "cell_type": "code",
   "execution_count": null,
   "metadata": {},
   "outputs": [],
   "source": [
    "geolocator = Nominatim(user_agent=\"TFG\")"
   ]
  },
  {
   "cell_type": "code",
   "execution_count": null,
   "metadata": {},
   "outputs": [],
   "source": [
    "region = 'Islas Baleares'\n",
    "#Obtenemos los limites de la region seleccionada via Nominatim\n",
    "bbox = geolocator.geocode(region, timeout=30).raw['boundingbox']\n",
    "#bbox[:2] = ['40.3119774', '40.6437293']\n",
    "#bbox[2:] = ['-3.8889539', '-3.5179163']\n",
    "df_region = df[(df['Latitude'] >= float(bbox[:2][0])) &\n",
    "               (df['Latitude'] <= float(bbox[:2][1])) &\n",
    "               (df['Longitude'] >= float(bbox[2:][0])) &\n",
    "               (df['Longitude'] <= float(bbox[2:][1]))]\n",
    "len(df_region)"
   ]
  },
  {
   "cell_type": "markdown",
   "metadata": {},
   "source": [
    "Vemos cuantos usuarios tienen más de X puntos recogidos en el mes de julio"
   ]
  },
  {
   "cell_type": "code",
   "execution_count": null,
   "metadata": {},
   "outputs": [],
   "source": [
    "users_top = []\n",
    "users = list(df_region['Device ID'].unique())\n",
    "for userID in users:\n",
    "    if len(df_region[df_region['Device ID'] == userID]) > 900:\n",
    "        users_top.append(userID)\n",
    "len(users_top)"
   ]
  },
  {
   "cell_type": "markdown",
   "metadata": {},
   "source": [
    "Obtenemos el fichero de una ciudad tras haber hecho todos los filtros convenientes"
   ]
  },
  {
   "cell_type": "code",
   "execution_count": null,
   "metadata": {},
   "outputs": [],
   "source": [
    "df_region.to_csv('balearesjulio.csv', sep=',', index=False)"
   ]
  },
  {
   "cell_type": "markdown",
   "metadata": {},
   "source": [
    "# Las celdas siguientes no se han tenido en cuenta, per contienen información sobre cómo plotear con Folium\n",
    "### Usuarios por region (Madrid, Barcelona...)"
   ]
  },
  {
   "cell_type": "code",
   "execution_count": null,
   "metadata": {},
   "outputs": [],
   "source": [
    "def users_per_region(users, region):\n",
    "    coords = [0, 0]\n",
    "    j=0\n",
    "    \n",
    "    #Obtenemos los limites de la region seleccionada via Nominatim\n",
    "    bbox = geolocator.geocode(region, timeout=30).raw['boundingbox']\n",
    "    \n",
    "    users_aux = users.copy()\n",
    "    \n",
    "    for k,v in users.items():\n",
    "        for idx, row in v.iterrows():\n",
    "            coords[0] += float(row['Latitude'])\n",
    "            coords[1] += float(row['Longitude'])\n",
    "            j+=1\n",
    "        #Obtenemos el punto medio de las locaclizaciones de un usuario\n",
    "        coords[0] = coords[0]/j;\n",
    "        coords[1] = coords[1]/j;\n",
    "        \n",
    "        #Checkeamos si dicho usuario esta en la region de acuerdo a su punto medio\n",
    "        if (coords[0] >= float(bbox[0]) \n",
    "            and coords[0] <= float(bbox[1]) \n",
    "            and coords[1] >= float(bbox[2]) \n",
    "            and coords[1] <= float(bbox[3])):\n",
    "            pass\n",
    "        else:\n",
    "            users_aux.pop(k)\n",
    "        \n",
    "        coords = [0, 0]\n",
    "        j=0\n",
    "            \n",
    "    return users_aux"
   ]
  },
  {
   "cell_type": "code",
   "execution_count": null,
   "metadata": {
    "scrolled": true
   },
   "outputs": [],
   "source": [
    "users_Madrid = users_per_region(users, 'Madrid')\n",
    "len(users_Madrid)"
   ]
  },
  {
   "cell_type": "markdown",
   "metadata": {},
   "source": [
    "### Mapeo de usuarios"
   ]
  },
  {
   "cell_type": "code",
   "execution_count": null,
   "metadata": {},
   "outputs": [],
   "source": [
    "def get_avgcoords_users(users):\n",
    "    coords = [0, 0]\n",
    "    j=0\n",
    "    coords_by_user={}\n",
    "    \n",
    "    for k,v in users.items():\n",
    "        for idx, row in v.iterrows():\n",
    "            coords[0] += float(row['Latitude'])\n",
    "            coords[1] += float(row['Longitude'])\n",
    "            j+=1\n",
    "        #Obtenemos el punto medio de las locaclizaciones de un usuario\n",
    "        coords[0] = coords[0]/j;\n",
    "        coords[1] = coords[1]/j;\n",
    "        coords_by_user[k] = coords\n",
    "        \n",
    "        coords = [0, 0]\n",
    "        j=0\n",
    "    return coords_by_user"
   ]
  },
  {
   "cell_type": "code",
   "execution_count": null,
   "metadata": {},
   "outputs": [],
   "source": [
    "coords_by_user = get_avgcoords_users(users_top_Madrid)"
   ]
  },
  {
   "cell_type": "code",
   "execution_count": null,
   "metadata": {},
   "outputs": [],
   "source": [
    "#styles = [\"Stamen Terrain\", \"Stamen Toner\", \"Mapbox Bright\"]\n",
    "location = geolocator.geocode(\"Madrid\")\n",
    "m = folium.Map(location=(location.raw['lat'],location.raw['lon']), zoom_start=8)\n",
    "for k,v in coords_by_user.items():\n",
    "    folium.Marker(location=v, popup= 'ID = '+ str(k)).add_to(m)"
   ]
  },
  {
   "cell_type": "code",
   "execution_count": null,
   "metadata": {},
   "outputs": [],
   "source": [
    "m"
   ]
  },
  {
   "cell_type": "code",
   "execution_count": null,
   "metadata": {},
   "outputs": [],
   "source": [
    "#Funcion para dibujar las velocidades en el camino con diferentes colores\n",
    "def speed_color(speed):\n",
    "    if speed < 0:\n",
    "        raise ValueError\n",
    "    elif speed >= 0 and speed < 10:\n",
    "        return 'red'\n",
    "    elif speed >= 10 and speed < 60:\n",
    "        return 'yellow'\n",
    "    else:\n",
    "        return 'green'"
   ]
  },
  {
   "cell_type": "code",
   "execution_count": null,
   "metadata": {},
   "outputs": [],
   "source": [
    "userID = 4283\n",
    "\n",
    "#styles = [\"Stamen Terrain\", \"Stamen Toner\", \"Mapbox Bright\"]\n",
    "points = users_top_Madrid[userID]\n",
    "ways = caminos_by_user(users_top_Madrid)[userID]\n",
    "center = get_avgcoords_users(users_top_Madrid)[userID]\n",
    "m = folium.Map(location=[center[0], center[1]], zoom_start=12)\n",
    "    \n",
    "for i in range(len(points)-1) : \n",
    "    dt_object = datetime.fromtimestamp(points.iloc[i, 0]) #Convertimos el tiempo unix en fecha legible\n",
    "    #Obtenemos dos ubicaciones para poder ir dibujando la linea que los une (poligono)\n",
    "    p1 = [points.iloc[i, 3], points.iloc[i, 4]]\n",
    "    p2 = [points.iloc[i+1, 3], points.iloc[i+1, 4]]\n",
    "    speed = round(ways['Speed (km/h)'][i], 2) #Redondeamos los decimales de la velocidad\n",
    "    folium.PolyLine(locations=[p1, p2], color=speed_color(speed), tooltip=str(speed) +' km/h').add_to(m)\n",
    "    if i==0:\n",
    "        folium.Marker(location=p1,popup= 'Punto de inicio: ' + str(dt_object), icon=folium.Icon(color='green')\n",
    "                 ).add_to(m)\n",
    "    elif i == len(points)-2:\n",
    "        folium.Marker(location=p2,popup= 'Punto final: ' + str(dt_object), icon=folium.Icon(color='red')\n",
    "                 ).add_to(m)\n",
    "    else:\n",
    "        folium.Circle(radius=20,location=p1,popup=dt_object,color='orange',\n",
    "                 ).add_to(m)"
   ]
  },
  {
   "cell_type": "code",
   "execution_count": null,
   "metadata": {},
   "outputs": [],
   "source": [
    "m"
   ]
  }
 ],
 "metadata": {
  "kernelspec": {
   "display_name": "Python 3",
   "language": "python",
   "name": "python3"
  },
  "language_info": {
   "codemirror_mode": {
    "name": "ipython",
    "version": 3
   },
   "file_extension": ".py",
   "mimetype": "text/x-python",
   "name": "python",
   "nbconvert_exporter": "python",
   "pygments_lexer": "ipython3",
   "version": "3.7.4"
  }
 },
 "nbformat": 4,
 "nbformat_minor": 2
}
