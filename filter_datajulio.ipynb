{
 "cells": [
  {
   "cell_type": "code",
   "execution_count": 2,
   "metadata": {},
   "outputs": [],
   "source": [
    "import numpy as np \n",
    "import pandas as pd \n",
    "import math \n",
    "from sklearn import preprocessing\n",
    "import gmplot\n",
    "import matplotlib.pyplot as plt\n",
    "from time import time\n",
    "import operator\n",
    "from datetime import datetime"
   ]
  },
  {
   "cell_type": "code",
   "execution_count": 3,
   "metadata": {},
   "outputs": [],
   "source": [
    "from geopy.geocoders import Nominatim\n",
    "import overpass\n",
    "import folium\n",
    "from folium import plugins\n",
    "from folium.plugins import HeatMap"
   ]
  },
  {
   "cell_type": "code",
   "execution_count": 4,
   "metadata": {},
   "outputs": [],
   "source": [
    "# dataframe con device ids legibles\n",
    "def device_ids_encoder(d):\n",
    "    le = preprocessing.LabelEncoder()\n",
    "    simple_ids=le.fit_transform(d['Device ID'].astype(str))    \n",
    "    d['Device ID'] = simple_ids  \n",
    "    return d\n",
    "\n",
    "# punto medio de un usuario\n",
    "def avg_location(d, user):\n",
    "\tj=0\n",
    "\tcoords = [0, 0]\n",
    "\tfor index, row in d.iterrows():\n",
    "\t\tif row['Device ID']==user:\n",
    "\t\t\tcoords[0] += float(row['Latitude'])\n",
    "\t\t\tcoords[1] += float(row['Longitude'])\n",
    "\t\t\tj += 1\n",
    "\n",
    "\tcoords[0] = coords[0]/j;\n",
    "\tcoords[1] = coords[1]/j;\n",
    "\treturn coords\n",
    "\n",
    "#Se obtiene un diccionario cuya clave es el user ID y el valor es un dataframe con las localizaciones del usuario\n",
    "def get_info_by_user(d):\n",
    "\tusers={}\n",
    "\tdf = dict()\n",
    "    \n",
    "\tfor idx, row in d.iterrows():\n",
    "\t\tif row['Device ID'] not in users:\n",
    "\t\t\tdf=d[d['Device ID']==row['Device ID']]\n",
    "\t\t\tusers[row['Device ID']] = df\n",
    "            \n",
    "#Ordenamos todas las localizaciones de cada usuario en el tiempo\n",
    "\tfor k,v in users.items():\n",
    "\t\tusers[k].sort_values(by=['Time Stamp'])\n",
    "\t\tusers[k].reset_index(drop=True)\n",
    "            \n",
    "\treturn users\n",
    "\n",
    "# top n de usuarios por numero de localizaciones\n",
    "def top_n_users(users, n):\n",
    "\tusers_num_locations = {}\n",
    "\tusers_top_n = {}\n",
    "\ti=0\n",
    "\n",
    "\tfor k,v in users.items():\n",
    "\t\tusers_num_locations[k] = len(v)\n",
    "\n",
    "\tusers_num_locations = dict(sorted(users_num_locations.items(), key=operator.itemgetter(1), reverse=True))\n",
    "    \n",
    "\tfor k,v in users_num_locations.items():\n",
    "\t\tif i==n:\n",
    "\t\t\tbreak\n",
    "\t\tusers_top_n[k] = users[k]\n",
    "\t\ti+=1\n",
    "    \n",
    "\treturn users_top_n"
   ]
  },
  {
   "cell_type": "markdown",
   "metadata": {},
   "source": [
    "### Getting data from csv"
   ]
  },
  {
   "cell_type": "code",
   "execution_count": 5,
   "metadata": {},
   "outputs": [
    {
     "name": "stderr",
     "output_type": "stream",
     "text": [
      "/usr/local/lib/python3.7/site-packages/numpy/lib/arraysetops.py:568: FutureWarning: elementwise comparison failed; returning scalar instead, but in the future will perform elementwise comparison\n",
      "  mask |= (ar1 == a)\n"
     ]
    },
    {
     "name": "stdout",
     "output_type": "stream",
     "text": [
      "106.06460785865784 segundos\n"
     ]
    }
   ],
   "source": [
    "start_time = time()\n",
    "#-----------------------------------------------------------------\n",
    "df_raw = pd.read_csv('datajulio.csv', sep = ',',header=0, index_col=0)\n",
    "#-----------------------------------------------------------------\n",
    "total_time = time() - start_time\n",
    "print(str(total_time) + \" segundos\")"
   ]
  },
  {
   "cell_type": "code",
   "execution_count": 6,
   "metadata": {},
   "outputs": [
    {
     "data": {
      "text/plain": [
       "27226706"
      ]
     },
     "execution_count": 6,
     "metadata": {},
     "output_type": "execute_result"
    }
   ],
   "source": [
    "len(df_raw)"
   ]
  },
  {
   "cell_type": "code",
   "execution_count": 7,
   "metadata": {},
   "outputs": [
    {
     "data": {
      "text/plain": [
       "22178388"
      ]
     },
     "execution_count": 7,
     "metadata": {},
     "output_type": "execute_result"
    }
   ],
   "source": [
    "df=df_raw\n",
    "df.drop_duplicates(keep=False,inplace=True) # eliminamos filas repetidas (no aportan informacion)\n",
    "df.rename(columns={'offset':'Offset'}, inplace=True)\n",
    "len(df)"
   ]
  },
  {
   "cell_type": "code",
   "execution_count": 8,
   "metadata": {},
   "outputs": [
    {
     "name": "stdout",
     "output_type": "stream",
     "text": [
      "\n",
      "Dataset original:\n"
     ]
    },
    {
     "data": {
      "text/html": [
       "<div>\n",
       "<style scoped>\n",
       "    .dataframe tbody tr th:only-of-type {\n",
       "        vertical-align: middle;\n",
       "    }\n",
       "\n",
       "    .dataframe tbody tr th {\n",
       "        vertical-align: top;\n",
       "    }\n",
       "\n",
       "    .dataframe thead th {\n",
       "        text-align: right;\n",
       "    }\n",
       "</style>\n",
       "<table border=\"1\" class=\"dataframe\">\n",
       "  <thead>\n",
       "    <tr style=\"text-align: right;\">\n",
       "      <th></th>\n",
       "      <th>Time Stamp</th>\n",
       "      <th>Device ID</th>\n",
       "      <th>OS</th>\n",
       "      <th>Latitude</th>\n",
       "      <th>Longitude</th>\n",
       "      <th>Accuracy</th>\n",
       "      <th>Offset</th>\n",
       "    </tr>\n",
       "  </thead>\n",
       "  <tbody>\n",
       "    <tr>\n",
       "      <td>947210</td>\n",
       "      <td>1562020763</td>\n",
       "      <td>709c8e936b8bb1345acd529a2e905e49f86813b2a9c8c4...</td>\n",
       "      <td>0</td>\n",
       "      <td>42.249754</td>\n",
       "      <td>-8.610742</td>\n",
       "      <td>1700</td>\n",
       "      <td>7200.0</td>\n",
       "    </tr>\n",
       "    <tr>\n",
       "      <td>947211</td>\n",
       "      <td>1561982150</td>\n",
       "      <td>10024d1a3e5aaa32cfd9b3079e5bad8bb6aa3f15c0cf23...</td>\n",
       "      <td>0</td>\n",
       "      <td>40.445950</td>\n",
       "      <td>-3.691597</td>\n",
       "      <td>37</td>\n",
       "      <td>7200.0</td>\n",
       "    </tr>\n",
       "    <tr>\n",
       "      <td>947212</td>\n",
       "      <td>1561985717</td>\n",
       "      <td>e2c3c8c9456fb44ad02d5a628186049b0f5d3b60c2845e...</td>\n",
       "      <td>0</td>\n",
       "      <td>42.702406</td>\n",
       "      <td>-8.664966</td>\n",
       "      <td>15</td>\n",
       "      <td>7200.0</td>\n",
       "    </tr>\n",
       "    <tr>\n",
       "      <td>947213</td>\n",
       "      <td>1561998458</td>\n",
       "      <td>43617b99f4b9814252e93e97f1d155dfbaf01af8987f65...</td>\n",
       "      <td>0</td>\n",
       "      <td>39.991468</td>\n",
       "      <td>-6.538007</td>\n",
       "      <td>15</td>\n",
       "      <td>7200.0</td>\n",
       "    </tr>\n",
       "    <tr>\n",
       "      <td>947214</td>\n",
       "      <td>1561972468</td>\n",
       "      <td>d89369386ef6f9f5187b2469a71ec3e997e89e40e3b534...</td>\n",
       "      <td>0</td>\n",
       "      <td>39.540992</td>\n",
       "      <td>2.742054</td>\n",
       "      <td>800</td>\n",
       "      <td>7200.0</td>\n",
       "    </tr>\n",
       "  </tbody>\n",
       "</table>\n",
       "</div>"
      ],
      "text/plain": [
       "        Time Stamp                                          Device ID  OS  \\\n",
       "947210  1562020763  709c8e936b8bb1345acd529a2e905e49f86813b2a9c8c4...   0   \n",
       "947211  1561982150  10024d1a3e5aaa32cfd9b3079e5bad8bb6aa3f15c0cf23...   0   \n",
       "947212  1561985717  e2c3c8c9456fb44ad02d5a628186049b0f5d3b60c2845e...   0   \n",
       "947213  1561998458  43617b99f4b9814252e93e97f1d155dfbaf01af8987f65...   0   \n",
       "947214  1561972468  d89369386ef6f9f5187b2469a71ec3e997e89e40e3b534...   0   \n",
       "\n",
       "         Latitude  Longitude  Accuracy  Offset  \n",
       "947210  42.249754  -8.610742      1700  7200.0  \n",
       "947211  40.445950  -3.691597        37  7200.0  \n",
       "947212  42.702406  -8.664966        15  7200.0  \n",
       "947213  39.991468  -6.538007        15  7200.0  \n",
       "947214  39.540992   2.742054       800  7200.0  "
      ]
     },
     "execution_count": 8,
     "metadata": {},
     "output_type": "execute_result"
    }
   ],
   "source": [
    "print(\"\\nDataset original:\")\n",
    "df.head()"
   ]
  },
  {
   "cell_type": "code",
   "execution_count": 9,
   "metadata": {},
   "outputs": [
    {
     "data": {
      "text/html": [
       "<div>\n",
       "<style scoped>\n",
       "    .dataframe tbody tr th:only-of-type {\n",
       "        vertical-align: middle;\n",
       "    }\n",
       "\n",
       "    .dataframe tbody tr th {\n",
       "        vertical-align: top;\n",
       "    }\n",
       "\n",
       "    .dataframe thead th {\n",
       "        text-align: right;\n",
       "    }\n",
       "</style>\n",
       "<table border=\"1\" class=\"dataframe\">\n",
       "  <thead>\n",
       "    <tr style=\"text-align: right;\">\n",
       "      <th></th>\n",
       "      <th>Time Stamp</th>\n",
       "      <th>Device ID</th>\n",
       "      <th>OS</th>\n",
       "      <th>Latitude</th>\n",
       "      <th>Longitude</th>\n",
       "      <th>Accuracy</th>\n",
       "      <th>Offset</th>\n",
       "    </tr>\n",
       "  </thead>\n",
       "  <tbody>\n",
       "    <tr>\n",
       "      <td>947210</td>\n",
       "      <td>1562020763</td>\n",
       "      <td>66262</td>\n",
       "      <td>0</td>\n",
       "      <td>42.249754</td>\n",
       "      <td>-8.610742</td>\n",
       "      <td>1700</td>\n",
       "      <td>7200.0</td>\n",
       "    </tr>\n",
       "    <tr>\n",
       "      <td>947211</td>\n",
       "      <td>1561982150</td>\n",
       "      <td>9284</td>\n",
       "      <td>0</td>\n",
       "      <td>40.445950</td>\n",
       "      <td>-3.691597</td>\n",
       "      <td>37</td>\n",
       "      <td>7200.0</td>\n",
       "    </tr>\n",
       "    <tr>\n",
       "      <td>947212</td>\n",
       "      <td>1561985717</td>\n",
       "      <td>133732</td>\n",
       "      <td>0</td>\n",
       "      <td>42.702406</td>\n",
       "      <td>-8.664966</td>\n",
       "      <td>15</td>\n",
       "      <td>7200.0</td>\n",
       "    </tr>\n",
       "    <tr>\n",
       "      <td>947213</td>\n",
       "      <td>1561998458</td>\n",
       "      <td>39698</td>\n",
       "      <td>0</td>\n",
       "      <td>39.991468</td>\n",
       "      <td>-6.538007</td>\n",
       "      <td>15</td>\n",
       "      <td>7200.0</td>\n",
       "    </tr>\n",
       "    <tr>\n",
       "      <td>947214</td>\n",
       "      <td>1561972468</td>\n",
       "      <td>127746</td>\n",
       "      <td>0</td>\n",
       "      <td>39.540992</td>\n",
       "      <td>2.742054</td>\n",
       "      <td>800</td>\n",
       "      <td>7200.0</td>\n",
       "    </tr>\n",
       "  </tbody>\n",
       "</table>\n",
       "</div>"
      ],
      "text/plain": [
       "        Time Stamp  Device ID  OS   Latitude  Longitude  Accuracy  Offset\n",
       "947210  1562020763      66262   0  42.249754  -8.610742      1700  7200.0\n",
       "947211  1561982150       9284   0  40.445950  -3.691597        37  7200.0\n",
       "947212  1561985717     133732   0  42.702406  -8.664966        15  7200.0\n",
       "947213  1561998458      39698   0  39.991468  -6.538007        15  7200.0\n",
       "947214  1561972468     127746   0  39.540992   2.742054       800  7200.0"
      ]
     },
     "execution_count": 9,
     "metadata": {},
     "output_type": "execute_result"
    }
   ],
   "source": [
    "# encoding ids\n",
    "df=device_ids_encoder(df)\n",
    "df.head()"
   ]
  },
  {
   "cell_type": "code",
   "execution_count": 10,
   "metadata": {},
   "outputs": [
    {
     "data": {
      "text/html": [
       "<div>\n",
       "<style scoped>\n",
       "    .dataframe tbody tr th:only-of-type {\n",
       "        vertical-align: middle;\n",
       "    }\n",
       "\n",
       "    .dataframe tbody tr th {\n",
       "        vertical-align: top;\n",
       "    }\n",
       "\n",
       "    .dataframe thead th {\n",
       "        text-align: right;\n",
       "    }\n",
       "</style>\n",
       "<table border=\"1\" class=\"dataframe\">\n",
       "  <thead>\n",
       "    <tr style=\"text-align: right;\">\n",
       "      <th></th>\n",
       "      <th>Time Stamp</th>\n",
       "      <th>Device ID</th>\n",
       "      <th>OS</th>\n",
       "      <th>Latitude</th>\n",
       "      <th>Longitude</th>\n",
       "      <th>Accuracy</th>\n",
       "      <th>Offset</th>\n",
       "    </tr>\n",
       "  </thead>\n",
       "  <tbody>\n",
       "    <tr>\n",
       "      <td>947210</td>\n",
       "      <td>1562020763</td>\n",
       "      <td>66262</td>\n",
       "      <td>0</td>\n",
       "      <td>42.249754</td>\n",
       "      <td>-8.610742</td>\n",
       "      <td>1700</td>\n",
       "      <td>7200.0</td>\n",
       "    </tr>\n",
       "    <tr>\n",
       "      <td>947211</td>\n",
       "      <td>1561982150</td>\n",
       "      <td>9284</td>\n",
       "      <td>0</td>\n",
       "      <td>40.445950</td>\n",
       "      <td>-3.691597</td>\n",
       "      <td>37</td>\n",
       "      <td>7200.0</td>\n",
       "    </tr>\n",
       "  </tbody>\n",
       "</table>\n",
       "</div>"
      ],
      "text/plain": [
       "        Time Stamp  Device ID  OS   Latitude  Longitude  Accuracy  Offset\n",
       "947210  1562020763      66262   0  42.249754  -8.610742      1700  7200.0\n",
       "947211  1561982150       9284   0  40.445950  -3.691597        37  7200.0"
      ]
     },
     "execution_count": 10,
     "metadata": {},
     "output_type": "execute_result"
    }
   ],
   "source": [
    "df.head(2)"
   ]
  },
  {
   "cell_type": "markdown",
   "metadata": {},
   "source": [
    "## Filtrado de fechas [2019-07-01 11:00:58, 2019-08-01 23:59:59]"
   ]
  },
  {
   "cell_type": "code",
   "execution_count": null,
   "metadata": {},
   "outputs": [],
   "source": [
    "print(datetime.fromtimestamp(df['Time Stamp'].max()))\n",
    "print(datetime.fromtimestamp(df['Time Stamp'].min()))\n",
    "#df.nlargest(100, ['Time Stamp'])"
   ]
  },
  {
   "cell_type": "code",
   "execution_count": 12,
   "metadata": {},
   "outputs": [
    {
     "data": {
      "text/plain": [
       "22074533"
      ]
     },
     "execution_count": 12,
     "metadata": {},
     "output_type": "execute_result"
    }
   ],
   "source": [
    "date_time_str='2019-07-01 00:00:00'\n",
    "date = datetime.strptime(date_time_str, '%Y-%m-%d %H:%M:%S')\n",
    "timestamp_floor = datetime.timestamp(date)\n",
    "#--------------------------------------------------------------\n",
    "date_time_str='2019-08-01 00:00:00'\n",
    "date = datetime.strptime(date_time_str, '%Y-%m-%d %H:%M:%S')\n",
    "timestamp_roof = datetime.timestamp(date)\n",
    "#--------------------------------------------------------------\n",
    "df = df[(df['Time Stamp']>=timestamp_floor) & (df['Time Stamp']<=timestamp_roof)]\n",
    "len(df)"
   ]
  },
  {
   "cell_type": "code",
   "execution_count": 14,
   "metadata": {},
   "outputs": [
    {
     "data": {
      "text/plain": [
       "149270"
      ]
     },
     "execution_count": 14,
     "metadata": {},
     "output_type": "execute_result"
    }
   ],
   "source": [
    "len(df['Device ID'].unique())"
   ]
  },
  {
   "cell_type": "markdown",
   "metadata": {},
   "source": [
    "## Filtrado de usuarios por región"
   ]
  },
  {
   "cell_type": "code",
   "execution_count": 15,
   "metadata": {},
   "outputs": [],
   "source": [
    "geolocator = Nominatim(user_agent=\"TFG\")"
   ]
  },
  {
   "cell_type": "code",
   "execution_count": 43,
   "metadata": {},
   "outputs": [
    {
     "data": {
      "text/plain": [
       "1276393"
      ]
     },
     "execution_count": 43,
     "metadata": {},
     "output_type": "execute_result"
    }
   ],
   "source": [
    "region = 'Islas Baleares'\n",
    "#Obtenemos los limites de la region seleccionada via Nominatim\n",
    "bbox = geolocator.geocode(region, timeout=30).raw['boundingbox']\n",
    "#bbox[:2] = ['40.3119774', '40.6437293']\n",
    "#bbox[2:] = ['-3.8889539', '-3.5179163']\n",
    "df_region = df[(df['Latitude'] >= float(bbox[:2][0])) &\n",
    "               (df['Latitude'] <= float(bbox[:2][1])) &\n",
    "               (df['Longitude'] >= float(bbox[2:][0])) &\n",
    "               (df['Longitude'] <= float(bbox[2:][1]))]\n",
    "len(df_region)"
   ]
  },
  {
   "cell_type": "markdown",
   "metadata": {},
   "source": [
    "Vemos cuantos usuarios tienen más de X puntos recogidos en el mes de julio"
   ]
  },
  {
   "cell_type": "code",
   "execution_count": 45,
   "metadata": {},
   "outputs": [
    {
     "data": {
      "text/plain": [
       "87"
      ]
     },
     "execution_count": 45,
     "metadata": {},
     "output_type": "execute_result"
    }
   ],
   "source": [
    "users_top = []\n",
    "users = list(df_region['Device ID'].unique())\n",
    "for userID in users:\n",
    "    if len(df_region[df_region['Device ID'] == userID]) > 900:\n",
    "        users_top.append(userID)\n",
    "len(users_top)"
   ]
  },
  {
   "cell_type": "code",
   "execution_count": 46,
   "metadata": {},
   "outputs": [],
   "source": [
    "df_region.to_csv('balearesjulio.csv', sep=',', index=False)"
   ]
  },
  {
   "cell_type": "markdown",
   "metadata": {},
   "source": [
    "### Usuarios por region (Madrid, Barcelona...)"
   ]
  },
  {
   "cell_type": "code",
   "execution_count": null,
   "metadata": {},
   "outputs": [],
   "source": [
    "def users_per_region(users, region):\n",
    "    coords = [0, 0]\n",
    "    j=0\n",
    "    \n",
    "    #Obtenemos los limites de la region seleccionada via Nominatim\n",
    "    bbox = geolocator.geocode(region, timeout=30).raw['boundingbox']\n",
    "    \n",
    "    users_aux = users.copy()\n",
    "    \n",
    "    for k,v in users.items():\n",
    "        for idx, row in v.iterrows():\n",
    "            coords[0] += float(row['Latitude'])\n",
    "            coords[1] += float(row['Longitude'])\n",
    "            j+=1\n",
    "        #Obtenemos el punto medio de las locaclizaciones de un usuario\n",
    "        coords[0] = coords[0]/j;\n",
    "        coords[1] = coords[1]/j;\n",
    "        \n",
    "        #Checkeamos si dicho usuario esta en la region de acuerdo a su punto medio\n",
    "        if (coords[0] >= float(bbox[0]) \n",
    "            and coords[0] <= float(bbox[1]) \n",
    "            and coords[1] >= float(bbox[2]) \n",
    "            and coords[1] <= float(bbox[3])):\n",
    "            pass\n",
    "        else:\n",
    "            users_aux.pop(k)\n",
    "        \n",
    "        coords = [0, 0]\n",
    "        j=0\n",
    "            \n",
    "    return users_aux"
   ]
  },
  {
   "cell_type": "code",
   "execution_count": null,
   "metadata": {
    "scrolled": true
   },
   "outputs": [],
   "source": [
    "users_Madrid = users_per_region(users, 'Madrid')\n",
    "len(users_Madrid)"
   ]
  },
  {
   "cell_type": "markdown",
   "metadata": {},
   "source": [
    "### Mapeo de usuarios"
   ]
  },
  {
   "cell_type": "code",
   "execution_count": null,
   "metadata": {},
   "outputs": [],
   "source": [
    "def get_avgcoords_users(users):\n",
    "    coords = [0, 0]\n",
    "    j=0\n",
    "    coords_by_user={}\n",
    "    \n",
    "    for k,v in users.items():\n",
    "        for idx, row in v.iterrows():\n",
    "            coords[0] += float(row['Latitude'])\n",
    "            coords[1] += float(row['Longitude'])\n",
    "            j+=1\n",
    "        #Obtenemos el punto medio de las locaclizaciones de un usuario\n",
    "        coords[0] = coords[0]/j;\n",
    "        coords[1] = coords[1]/j;\n",
    "        coords_by_user[k] = coords\n",
    "        \n",
    "        coords = [0, 0]\n",
    "        j=0\n",
    "    return coords_by_user"
   ]
  },
  {
   "cell_type": "code",
   "execution_count": null,
   "metadata": {},
   "outputs": [],
   "source": [
    "coords_by_user = get_avgcoords_users(users_top_Madrid)"
   ]
  },
  {
   "cell_type": "code",
   "execution_count": 19,
   "metadata": {},
   "outputs": [
    {
     "ename": "NameError",
     "evalue": "name 'coords_by_user' is not defined",
     "output_type": "error",
     "traceback": [
      "\u001b[0;31m---------------------------------------------------------------------------\u001b[0m",
      "\u001b[0;31mNameError\u001b[0m                                 Traceback (most recent call last)",
      "\u001b[0;32m<ipython-input-19-e5fd3219b126>\u001b[0m in \u001b[0;36m<module>\u001b[0;34m\u001b[0m\n\u001b[1;32m      2\u001b[0m \u001b[0mlocation\u001b[0m \u001b[0;34m=\u001b[0m \u001b[0mgeolocator\u001b[0m\u001b[0;34m.\u001b[0m\u001b[0mgeocode\u001b[0m\u001b[0;34m(\u001b[0m\u001b[0;34m\"Madrid\"\u001b[0m\u001b[0;34m)\u001b[0m\u001b[0;34m\u001b[0m\u001b[0;34m\u001b[0m\u001b[0m\n\u001b[1;32m      3\u001b[0m \u001b[0mm\u001b[0m \u001b[0;34m=\u001b[0m \u001b[0mfolium\u001b[0m\u001b[0;34m.\u001b[0m\u001b[0mMap\u001b[0m\u001b[0;34m(\u001b[0m\u001b[0mlocation\u001b[0m\u001b[0;34m=\u001b[0m\u001b[0;34m(\u001b[0m\u001b[0mlocation\u001b[0m\u001b[0;34m.\u001b[0m\u001b[0mraw\u001b[0m\u001b[0;34m[\u001b[0m\u001b[0;34m'lat'\u001b[0m\u001b[0;34m]\u001b[0m\u001b[0;34m,\u001b[0m\u001b[0mlocation\u001b[0m\u001b[0;34m.\u001b[0m\u001b[0mraw\u001b[0m\u001b[0;34m[\u001b[0m\u001b[0;34m'lon'\u001b[0m\u001b[0;34m]\u001b[0m\u001b[0;34m)\u001b[0m\u001b[0;34m,\u001b[0m \u001b[0mzoom_start\u001b[0m\u001b[0;34m=\u001b[0m\u001b[0;36m8\u001b[0m\u001b[0;34m)\u001b[0m\u001b[0;34m\u001b[0m\u001b[0;34m\u001b[0m\u001b[0m\n\u001b[0;32m----> 4\u001b[0;31m \u001b[0;32mfor\u001b[0m \u001b[0mk\u001b[0m\u001b[0;34m,\u001b[0m\u001b[0mv\u001b[0m \u001b[0;32min\u001b[0m \u001b[0mcoords_by_user\u001b[0m\u001b[0;34m.\u001b[0m\u001b[0mitems\u001b[0m\u001b[0;34m(\u001b[0m\u001b[0;34m)\u001b[0m\u001b[0;34m:\u001b[0m\u001b[0;34m\u001b[0m\u001b[0;34m\u001b[0m\u001b[0m\n\u001b[0m\u001b[1;32m      5\u001b[0m     \u001b[0mfolium\u001b[0m\u001b[0;34m.\u001b[0m\u001b[0mMarker\u001b[0m\u001b[0;34m(\u001b[0m\u001b[0mlocation\u001b[0m\u001b[0;34m=\u001b[0m\u001b[0mv\u001b[0m\u001b[0;34m,\u001b[0m \u001b[0mpopup\u001b[0m\u001b[0;34m=\u001b[0m \u001b[0;34m'ID = '\u001b[0m\u001b[0;34m+\u001b[0m \u001b[0mstr\u001b[0m\u001b[0;34m(\u001b[0m\u001b[0mk\u001b[0m\u001b[0;34m)\u001b[0m\u001b[0;34m)\u001b[0m\u001b[0;34m.\u001b[0m\u001b[0madd_to\u001b[0m\u001b[0;34m(\u001b[0m\u001b[0mm\u001b[0m\u001b[0;34m)\u001b[0m\u001b[0;34m\u001b[0m\u001b[0;34m\u001b[0m\u001b[0m\n",
      "\u001b[0;31mNameError\u001b[0m: name 'coords_by_user' is not defined"
     ]
    }
   ],
   "source": [
    "#styles = [\"Stamen Terrain\", \"Stamen Toner\", \"Mapbox Bright\"]\n",
    "location = geolocator.geocode(\"Madrid\")\n",
    "m = folium.Map(location=(location.raw['lat'],location.raw['lon']), zoom_start=8)\n",
    "for k,v in coords_by_user.items():\n",
    "    folium.Marker(location=v, popup= 'ID = '+ str(k)).add_to(m)"
   ]
  },
  {
   "cell_type": "code",
   "execution_count": null,
   "metadata": {},
   "outputs": [],
   "source": [
    "m"
   ]
  },
  {
   "cell_type": "code",
   "execution_count": 45,
   "metadata": {},
   "outputs": [],
   "source": [
    "#Funcion para dibujar las velocidades en el camino con diferentes colores\n",
    "def speed_color(speed):\n",
    "    if speed < 0:\n",
    "        raise ValueError\n",
    "    elif speed >= 0 and speed < 10:\n",
    "        return 'red'\n",
    "    elif speed >= 10 and speed < 60:\n",
    "        return 'yellow'\n",
    "    else:\n",
    "        return 'green'"
   ]
  },
  {
   "cell_type": "code",
   "execution_count": 46,
   "metadata": {},
   "outputs": [
    {
     "ename": "NameError",
     "evalue": "name 'users_top_Madrid' is not defined",
     "output_type": "error",
     "traceback": [
      "\u001b[0;31m---------------------------------------------------------------------------\u001b[0m",
      "\u001b[0;31mNameError\u001b[0m                                 Traceback (most recent call last)",
      "\u001b[0;32m<ipython-input-46-d9001f5df77d>\u001b[0m in \u001b[0;36m<module>\u001b[0;34m\u001b[0m\n\u001b[1;32m      2\u001b[0m \u001b[0;34m\u001b[0m\u001b[0m\n\u001b[1;32m      3\u001b[0m \u001b[0;31m#styles = [\"Stamen Terrain\", \"Stamen Toner\", \"Mapbox Bright\"]\u001b[0m\u001b[0;34m\u001b[0m\u001b[0;34m\u001b[0m\u001b[0;34m\u001b[0m\u001b[0m\n\u001b[0;32m----> 4\u001b[0;31m \u001b[0mpoints\u001b[0m \u001b[0;34m=\u001b[0m \u001b[0musers_top_Madrid\u001b[0m\u001b[0;34m[\u001b[0m\u001b[0muserID\u001b[0m\u001b[0;34m]\u001b[0m\u001b[0;34m\u001b[0m\u001b[0;34m\u001b[0m\u001b[0m\n\u001b[0m\u001b[1;32m      5\u001b[0m \u001b[0mways\u001b[0m \u001b[0;34m=\u001b[0m \u001b[0mcaminos_by_user\u001b[0m\u001b[0;34m(\u001b[0m\u001b[0musers_top_Madrid\u001b[0m\u001b[0;34m)\u001b[0m\u001b[0;34m[\u001b[0m\u001b[0muserID\u001b[0m\u001b[0;34m]\u001b[0m\u001b[0;34m\u001b[0m\u001b[0;34m\u001b[0m\u001b[0m\n\u001b[1;32m      6\u001b[0m \u001b[0mcenter\u001b[0m \u001b[0;34m=\u001b[0m \u001b[0mget_avgcoords_users\u001b[0m\u001b[0;34m(\u001b[0m\u001b[0musers_top_Madrid\u001b[0m\u001b[0;34m)\u001b[0m\u001b[0;34m[\u001b[0m\u001b[0muserID\u001b[0m\u001b[0;34m]\u001b[0m\u001b[0;34m\u001b[0m\u001b[0;34m\u001b[0m\u001b[0m\n",
      "\u001b[0;31mNameError\u001b[0m: name 'users_top_Madrid' is not defined"
     ]
    }
   ],
   "source": [
    "userID = 4283\n",
    "\n",
    "#styles = [\"Stamen Terrain\", \"Stamen Toner\", \"Mapbox Bright\"]\n",
    "points = users_top_Madrid[userID]\n",
    "ways = caminos_by_user(users_top_Madrid)[userID]\n",
    "center = get_avgcoords_users(users_top_Madrid)[userID]\n",
    "m = folium.Map(location=[center[0], center[1]], zoom_start=12)\n",
    "    \n",
    "for i in range(len(points)-1) : \n",
    "    dt_object = datetime.fromtimestamp(points.iloc[i, 0]) #Convertimos el tiempo unix en fecha legible\n",
    "    #Obtenemos dos ubicaciones para poder ir dibujando la linea que los une (poligono)\n",
    "    p1 = [points.iloc[i, 3], points.iloc[i, 4]]\n",
    "    p2 = [points.iloc[i+1, 3], points.iloc[i+1, 4]]\n",
    "    speed = round(ways['Speed (km/h)'][i], 2) #Redondeamos los decimales de la velocidad\n",
    "    folium.PolyLine(locations=[p1, p2], color=speed_color(speed), tooltip=str(speed) +' km/h').add_to(m)\n",
    "    if i==0:\n",
    "        folium.Marker(location=p1,popup= 'Punto de inicio: ' + str(dt_object), icon=folium.Icon(color='green')\n",
    "                 ).add_to(m)\n",
    "    elif i == len(points)-2:\n",
    "        folium.Marker(location=p2,popup= 'Punto final: ' + str(dt_object), icon=folium.Icon(color='red')\n",
    "                 ).add_to(m)\n",
    "    else:\n",
    "        folium.Circle(radius=20,location=p1,popup=dt_object,color='orange',\n",
    "                 ).add_to(m)"
   ]
  },
  {
   "cell_type": "code",
   "execution_count": null,
   "metadata": {},
   "outputs": [],
   "source": [
    "m"
   ]
  },
  {
   "cell_type": "markdown",
   "metadata": {},
   "source": [
    "### Graficas usuarios Madrid"
   ]
  },
  {
   "cell_type": "code",
   "execution_count": null,
   "metadata": {},
   "outputs": [],
   "source": [
    "from math import radians, degrees, sin, cos, asin, acos, sqrt\n",
    "def great_circle(lon1, lat1, lon2, lat2):\n",
    "    #print(lon1, lat1, lon2, lat2)\n",
    "    lon1, lat1, lon2, lat2 = map(radians, [lon1, lat1, lon2, lat2])\n",
    "    a=sin(lat1) * sin(lat2) + cos(lat1) * cos(lat2) * cos(lon1 - lon2)\n",
    "    if a>1:\n",
    "        a=1\n",
    "    a=acos(a)\n",
    "    return 6371 *a\n",
    "    #return 6371 * (\n",
    "    #    acos(sin(lat1) * sin(lat2) + cos(lat1) * cos(lat2) * cos(lon1 - lon2))\n",
    "    #)"
   ]
  },
  {
   "cell_type": "code",
   "execution_count": null,
   "metadata": {},
   "outputs": [],
   "source": [
    "def puntos_a_caminos(d):\n",
    "    caminos=[]\n",
    "    time_total=0\n",
    "    dist_total=0\n",
    "    for idx, row in d.iterrows():\n",
    "        if idx>0:\n",
    "            #print(d.iloc[idx,4], d.iloc[idx,3], d.iloc[idx-1,4], d.iloc[idx-1,3])\n",
    "            dist = great_circle(d.iloc[idx,4], d.iloc[idx,3], d.iloc[idx-1,4], d.iloc[idx-1,3])\n",
    "            time = d.iloc[idx,0] - d.iloc[idx-1,0]\n",
    "            if time>0:  # if time==0, speed=previous_speed\n",
    "                speed = dist/time*3600  # conversion form seconds to hours\n",
    "            time_total+=time\n",
    "            dist_total+=dist\n",
    "            accur = (d.iloc[idx, 5] + d.iloc[idx-1,5])/2\n",
    "            offset = (d.iloc[idx, 6] + d.iloc[idx-1,6])/2\n",
    "            #print(dist, time, speed)\n",
    "            caminos.append([dist, time, speed, accur, offset])\n",
    "    d = pd.DataFrame(caminos, columns = ['Distance', 'Time (s)', 'Speed (km/h)', 'Accuracy', 'Offset']) \n",
    "    #print(\"Recorridos \" + str(dist_total) + \" kms en \" + str(time_total/3600) + \" horas\")\n",
    "    return d"
   ]
  },
  {
   "cell_type": "code",
   "execution_count": null,
   "metadata": {},
   "outputs": [],
   "source": [
    "#Se obtiene un diccionario con clave = id usuario y valor = dataframe de caminos del usuario\n",
    "def caminos_by_user(users):\n",
    "    caminos={}\n",
    "    for k,v in users.items():\n",
    "        caminos[k] = puntos_a_caminos(v)   \n",
    "        \n",
    "    return caminos"
   ]
  },
  {
   "cell_type": "code",
   "execution_count": null,
   "metadata": {},
   "outputs": [],
   "source": [
    "users_top_Madrid.keys()"
   ]
  },
  {
   "cell_type": "code",
   "execution_count": null,
   "metadata": {},
   "outputs": [],
   "source": [
    "caminos_by_user(users_top_Madrid)[56957]"
   ]
  }
 ],
 "metadata": {
  "kernelspec": {
   "display_name": "Python 3",
   "language": "python",
   "name": "python3"
  },
  "language_info": {
   "codemirror_mode": {
    "name": "ipython",
    "version": 3
   },
   "file_extension": ".py",
   "mimetype": "text/x-python",
   "name": "python",
   "nbconvert_exporter": "python",
   "pygments_lexer": "ipython3",
   "version": "3.7.4"
  }
 },
 "nbformat": 4,
 "nbformat_minor": 2
}
