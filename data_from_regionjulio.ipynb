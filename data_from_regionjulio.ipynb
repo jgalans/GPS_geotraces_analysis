{
 "cells": [
  {
   "cell_type": "code",
   "execution_count": 1,
   "metadata": {},
   "outputs": [],
   "source": [
    "import numpy as np \n",
    "import pandas as pd \n",
    "import math \n",
    "from sklearn import preprocessing\n",
    "import gmplot\n",
    "import matplotlib.pyplot as plt\n",
    "from time import time\n",
    "import operator\n",
    "from datetime import datetime"
   ]
  },
  {
   "cell_type": "code",
   "execution_count": 2,
   "metadata": {},
   "outputs": [],
   "source": [
    "from geopy.geocoders import Nominatim\n",
    "import overpass\n",
    "import folium\n",
    "from folium import plugins\n",
    "from folium.plugins import HeatMap\n",
    "geolocator = Nominatim(user_agent=\"TFG\")"
   ]
  },
  {
   "cell_type": "code",
   "execution_count": 3,
   "metadata": {},
   "outputs": [],
   "source": [
    "# dataframe con device ids legibles\n",
    "def device_ids_encoder(d):\n",
    "    le = preprocessing.LabelEncoder()\n",
    "    simple_ids=le.fit_transform(d['Device ID'].astype(str))    \n",
    "    d['Device ID'] = simple_ids  #d['Device ID'].replace(simple_ids)   avoids warning, but too slow   \n",
    "    return d\n",
    "\n",
    "# punto medio de un usuario\n",
    "def avg_location(d, user):\n",
    "\tj=0\n",
    "\tcoords = [0, 0]\n",
    "\tfor index, row in d.iterrows():\n",
    "\t\tif row['Device ID']==user:\n",
    "\t\t\tcoords[0] += float(row['Latitude'])\n",
    "\t\t\tcoords[1] += float(row['Longitude'])\n",
    "\t\t\tj += 1\n",
    "\n",
    "\tcoords[0] = coords[0]/j;\n",
    "\tcoords[1] = coords[1]/j;\n",
    "\treturn coords\n",
    "\n",
    "#Se obtiene un diccionario cuya clave es el user ID y el valor es un dataframe con las localizaciones del usuario\n",
    "def get_info_by_user(d):\n",
    "    users={}\n",
    "    \n",
    "    ids = list(d['Device ID'].unique())\n",
    "    \n",
    "    for x in ids:\n",
    "        users[x] = d[d['Device ID'] == x]\n",
    "        users[x] = users[x].sort_values(by='Time Stamp')\n",
    "        users[x] = users[x].reset_index(drop=True)\n",
    "            \n",
    "    return users\n",
    "\n",
    "# top n de usuarios por numero de localizaciones\n",
    "def top_n_users(users, n):\n",
    "\tusers_num_locations = {}\n",
    "\tusers_top_n = {}\n",
    "\ti=0\n",
    "\n",
    "\tfor k,v in users.items():\n",
    "\t\tusers_num_locations[k] = len(v)\n",
    "\n",
    "\tusers_num_locations = dict(sorted(users_num_locations.items(), key=operator.itemgetter(1), reverse=True))\n",
    "    \n",
    "\tfor k,v in users_num_locations.items():\n",
    "\t\tif i==n:\n",
    "\t\t\tbreak\n",
    "\t\tusers_top_n[k] = users[k]\n",
    "\t\ti+=1\n",
    "    \n",
    "\treturn users_top_n"
   ]
  },
  {
   "cell_type": "markdown",
   "metadata": {},
   "source": [
    "### Getting data from csv"
   ]
  },
  {
   "cell_type": "code",
   "execution_count": 35,
   "metadata": {},
   "outputs": [
    {
     "name": "stdout",
     "output_type": "stream",
     "text": [
      "1.768639087677002 segundos\n"
     ]
    }
   ],
   "source": [
    "start_time = time()\n",
    "#-----------------------------------------------------------------\n",
    "# read csv\n",
    "df_raw = pd.read_csv('balearesjulio.csv', sep = ',')\n",
    "#-----------------------------------------------------------------\n",
    "total_time = time() - start_time\n",
    "print(str(total_time) + \" segundos\")"
   ]
  },
  {
   "cell_type": "code",
   "execution_count": 36,
   "metadata": {},
   "outputs": [
    {
     "data": {
      "text/plain": [
       "1276393"
      ]
     },
     "execution_count": 36,
     "metadata": {},
     "output_type": "execute_result"
    }
   ],
   "source": [
    "df=df_raw\n",
    "len(df_raw)"
   ]
  },
  {
   "cell_type": "code",
   "execution_count": 37,
   "metadata": {},
   "outputs": [],
   "source": [
    "df.insert(1, 'Date Time', df['Time Stamp'].apply(lambda x: datetime.fromtimestamp(x)))\n",
    "df = df.sort_values(by='Time Stamp')\n",
    "df = df.reset_index(drop=True)"
   ]
  },
  {
   "cell_type": "code",
   "execution_count": 38,
   "metadata": {},
   "outputs": [
    {
     "name": "stdout",
     "output_type": "stream",
     "text": [
      "\n",
      "Dataset original:\n"
     ]
    },
    {
     "data": {
      "text/html": [
       "<div>\n",
       "<style scoped>\n",
       "    .dataframe tbody tr th:only-of-type {\n",
       "        vertical-align: middle;\n",
       "    }\n",
       "\n",
       "    .dataframe tbody tr th {\n",
       "        vertical-align: top;\n",
       "    }\n",
       "\n",
       "    .dataframe thead th {\n",
       "        text-align: right;\n",
       "    }\n",
       "</style>\n",
       "<table border=\"1\" class=\"dataframe\">\n",
       "  <thead>\n",
       "    <tr style=\"text-align: right;\">\n",
       "      <th></th>\n",
       "      <th>Time Stamp</th>\n",
       "      <th>Date Time</th>\n",
       "      <th>Device ID</th>\n",
       "      <th>OS</th>\n",
       "      <th>Latitude</th>\n",
       "      <th>Longitude</th>\n",
       "      <th>Accuracy</th>\n",
       "      <th>Offset</th>\n",
       "    </tr>\n",
       "  </thead>\n",
       "  <tbody>\n",
       "    <tr>\n",
       "      <td>0</td>\n",
       "      <td>1561932000</td>\n",
       "      <td>2019-07-01 00:00:00</td>\n",
       "      <td>66805</td>\n",
       "      <td>0</td>\n",
       "      <td>39.884829</td>\n",
       "      <td>4.258047</td>\n",
       "      <td>16</td>\n",
       "      <td>7200.0</td>\n",
       "    </tr>\n",
       "    <tr>\n",
       "      <td>1</td>\n",
       "      <td>1561932000</td>\n",
       "      <td>2019-07-01 00:00:00</td>\n",
       "      <td>113782</td>\n",
       "      <td>0</td>\n",
       "      <td>38.910350</td>\n",
       "      <td>1.425199</td>\n",
       "      <td>1500</td>\n",
       "      <td>7200.0</td>\n",
       "    </tr>\n",
       "    <tr>\n",
       "      <td>2</td>\n",
       "      <td>1561932002</td>\n",
       "      <td>2019-07-01 00:00:02</td>\n",
       "      <td>85905</td>\n",
       "      <td>0</td>\n",
       "      <td>39.667625</td>\n",
       "      <td>2.578221</td>\n",
       "      <td>40</td>\n",
       "      <td>7200.0</td>\n",
       "    </tr>\n",
       "    <tr>\n",
       "      <td>3</td>\n",
       "      <td>1561932002</td>\n",
       "      <td>2019-07-01 00:00:02</td>\n",
       "      <td>95002</td>\n",
       "      <td>0</td>\n",
       "      <td>39.564881</td>\n",
       "      <td>3.215519</td>\n",
       "      <td>17</td>\n",
       "      <td>7200.0</td>\n",
       "    </tr>\n",
       "    <tr>\n",
       "      <td>4</td>\n",
       "      <td>1561932003</td>\n",
       "      <td>2019-07-01 00:00:03</td>\n",
       "      <td>64535</td>\n",
       "      <td>0</td>\n",
       "      <td>39.714935</td>\n",
       "      <td>3.460052</td>\n",
       "      <td>31</td>\n",
       "      <td>7200.0</td>\n",
       "    </tr>\n",
       "  </tbody>\n",
       "</table>\n",
       "</div>"
      ],
      "text/plain": [
       "   Time Stamp           Date Time  Device ID  OS   Latitude  Longitude  \\\n",
       "0  1561932000 2019-07-01 00:00:00      66805   0  39.884829   4.258047   \n",
       "1  1561932000 2019-07-01 00:00:00     113782   0  38.910350   1.425199   \n",
       "2  1561932002 2019-07-01 00:00:02      85905   0  39.667625   2.578221   \n",
       "3  1561932002 2019-07-01 00:00:02      95002   0  39.564881   3.215519   \n",
       "4  1561932003 2019-07-01 00:00:03      64535   0  39.714935   3.460052   \n",
       "\n",
       "   Accuracy  Offset  \n",
       "0        16  7200.0  \n",
       "1      1500  7200.0  \n",
       "2        40  7200.0  \n",
       "3        17  7200.0  \n",
       "4        31  7200.0  "
      ]
     },
     "execution_count": 38,
     "metadata": {},
     "output_type": "execute_result"
    }
   ],
   "source": [
    "print(\"\\nDataset original:\")\n",
    "df.head()"
   ]
  },
  {
   "cell_type": "markdown",
   "metadata": {},
   "source": [
    "Número de usuarios distintos:"
   ]
  },
  {
   "cell_type": "code",
   "execution_count": 39,
   "metadata": {},
   "outputs": [
    {
     "data": {
      "text/plain": [
       "13851"
      ]
     },
     "execution_count": 39,
     "metadata": {},
     "output_type": "execute_result"
    }
   ],
   "source": [
    "len(df['Device ID'].unique())"
   ]
  },
  {
   "cell_type": "code",
   "execution_count": 40,
   "metadata": {},
   "outputs": [
    {
     "data": {
      "text/html": [
       "<div>\n",
       "<style scoped>\n",
       "    .dataframe tbody tr th:only-of-type {\n",
       "        vertical-align: middle;\n",
       "    }\n",
       "\n",
       "    .dataframe tbody tr th {\n",
       "        vertical-align: top;\n",
       "    }\n",
       "\n",
       "    .dataframe thead th {\n",
       "        text-align: right;\n",
       "    }\n",
       "</style>\n",
       "<table border=\"1\" class=\"dataframe\">\n",
       "  <thead>\n",
       "    <tr style=\"text-align: right;\">\n",
       "      <th></th>\n",
       "      <th>Time Stamp</th>\n",
       "      <th>Device ID</th>\n",
       "      <th>OS</th>\n",
       "      <th>Latitude</th>\n",
       "      <th>Longitude</th>\n",
       "      <th>Accuracy</th>\n",
       "      <th>Offset</th>\n",
       "    </tr>\n",
       "  </thead>\n",
       "  <tbody>\n",
       "    <tr>\n",
       "      <td>count</td>\n",
       "      <td>1.276393e+06</td>\n",
       "      <td>1276393.000</td>\n",
       "      <td>1276393.000</td>\n",
       "      <td>1276393.000</td>\n",
       "      <td>1276393.000</td>\n",
       "      <td>1276393.000</td>\n",
       "      <td>1275102.000</td>\n",
       "    </tr>\n",
       "    <tr>\n",
       "      <td>mean</td>\n",
       "      <td>1.563394e+09</td>\n",
       "      <td>75243.188</td>\n",
       "      <td>0.270</td>\n",
       "      <td>39.428</td>\n",
       "      <td>2.595</td>\n",
       "      <td>572.539</td>\n",
       "      <td>7194.043</td>\n",
       "    </tr>\n",
       "    <tr>\n",
       "      <td>std</td>\n",
       "      <td>6.848891e+05</td>\n",
       "      <td>43555.201</td>\n",
       "      <td>0.444</td>\n",
       "      <td>0.390</td>\n",
       "      <td>0.892</td>\n",
       "      <td>12674.042</td>\n",
       "      <td>187.543</td>\n",
       "    </tr>\n",
       "    <tr>\n",
       "      <td>min</td>\n",
       "      <td>1.561932e+09</td>\n",
       "      <td>5.000</td>\n",
       "      <td>0.000</td>\n",
       "      <td>38.641</td>\n",
       "      <td>1.161</td>\n",
       "      <td>0.000</td>\n",
       "      <td>-25200.000</td>\n",
       "    </tr>\n",
       "    <tr>\n",
       "      <td>25%</td>\n",
       "      <td>1.562912e+09</td>\n",
       "      <td>37712.000</td>\n",
       "      <td>0.000</td>\n",
       "      <td>38.980</td>\n",
       "      <td>1.489</td>\n",
       "      <td>16.000</td>\n",
       "      <td>7200.000</td>\n",
       "    </tr>\n",
       "    <tr>\n",
       "      <td>50%</td>\n",
       "      <td>1.563570e+09</td>\n",
       "      <td>74709.000</td>\n",
       "      <td>0.000</td>\n",
       "      <td>39.551</td>\n",
       "      <td>2.672</td>\n",
       "      <td>59.000</td>\n",
       "      <td>7200.000</td>\n",
       "    </tr>\n",
       "    <tr>\n",
       "      <td>75%</td>\n",
       "      <td>1.563976e+09</td>\n",
       "      <td>113125.000</td>\n",
       "      <td>1.000</td>\n",
       "      <td>39.696</td>\n",
       "      <td>3.148</td>\n",
       "      <td>300.000</td>\n",
       "      <td>7200.000</td>\n",
       "    </tr>\n",
       "    <tr>\n",
       "      <td>max</td>\n",
       "      <td>1.564459e+09</td>\n",
       "      <td>150958.000</td>\n",
       "      <td>1.000</td>\n",
       "      <td>40.093</td>\n",
       "      <td>4.327</td>\n",
       "      <td>2147482.000</td>\n",
       "      <td>10800.000</td>\n",
       "    </tr>\n",
       "  </tbody>\n",
       "</table>\n",
       "</div>"
      ],
      "text/plain": [
       "         Time Stamp    Device ID           OS     Latitude    Longitude  \\\n",
       "count  1.276393e+06  1276393.000  1276393.000  1276393.000  1276393.000   \n",
       "mean   1.563394e+09    75243.188        0.270       39.428        2.595   \n",
       "std    6.848891e+05    43555.201        0.444        0.390        0.892   \n",
       "min    1.561932e+09        5.000        0.000       38.641        1.161   \n",
       "25%    1.562912e+09    37712.000        0.000       38.980        1.489   \n",
       "50%    1.563570e+09    74709.000        0.000       39.551        2.672   \n",
       "75%    1.563976e+09   113125.000        1.000       39.696        3.148   \n",
       "max    1.564459e+09   150958.000        1.000       40.093        4.327   \n",
       "\n",
       "          Accuracy       Offset  \n",
       "count  1276393.000  1275102.000  \n",
       "mean       572.539     7194.043  \n",
       "std      12674.042      187.543  \n",
       "min          0.000   -25200.000  \n",
       "25%         16.000     7200.000  \n",
       "50%         59.000     7200.000  \n",
       "75%        300.000     7200.000  \n",
       "max    2147482.000    10800.000  "
      ]
     },
     "execution_count": 40,
     "metadata": {},
     "output_type": "execute_result"
    }
   ],
   "source": [
    "describe_table = df.describe()\n",
    "describe_table.round(3)"
   ]
  },
  {
   "cell_type": "markdown",
   "metadata": {},
   "source": [
    "### Creamos una caspeta y un csv para cada usuario"
   ]
  },
  {
   "cell_type": "code",
   "execution_count": 41,
   "metadata": {},
   "outputs": [
    {
     "data": {
      "text/plain": [
       "106"
      ]
     },
     "execution_count": 41,
     "metadata": {},
     "output_type": "execute_result"
    }
   ],
   "source": [
    "users_top = []\n",
    "users = list(df['Device ID'].unique())\n",
    "for userID in users:\n",
    "    if len(df[df['Device ID'] == userID]) > 850:\n",
    "        users_top.append(userID)\n",
    "len(users_top)"
   ]
  },
  {
   "cell_type": "code",
   "execution_count": 42,
   "metadata": {},
   "outputs": [
    {
     "name": "stdout",
     "output_type": "stream",
     "text": [
      "104819\n",
      "38561\n",
      "107459\n",
      "37692\n",
      "50284\n",
      "47458\n",
      "86300\n",
      "34024\n",
      "66266\n",
      "111518\n",
      "119326\n",
      "69579\n",
      "73527\n",
      "10226\n",
      "123886\n",
      "70318\n",
      "112479\n",
      "67803\n",
      "87691\n",
      "116479\n",
      "36455\n",
      "105697\n",
      "120311\n",
      "136736\n",
      "4010\n",
      "627\n",
      "101468\n",
      "102671\n",
      "103768\n",
      "24303\n",
      "75367\n",
      "131727\n",
      "61103\n",
      "36243\n",
      "20169\n",
      "70609\n",
      "141043\n",
      "60464\n",
      "92331\n",
      "13067\n",
      "104290\n",
      "140263\n",
      "119278\n",
      "74982\n",
      "139360\n",
      "125967\n",
      "137043\n",
      "37058\n",
      "97586\n",
      "51016\n",
      "134356\n",
      "110792\n",
      "118617\n",
      "16706\n",
      "108104\n",
      "73204\n",
      "92418\n",
      "40311\n",
      "114512\n",
      "60266\n",
      "87916\n",
      "137267\n",
      "24541\n",
      "29787\n",
      "85822\n",
      "21159\n",
      "29157\n",
      "6792\n",
      "62304\n",
      "124819\n",
      "134610\n",
      "65551\n",
      "45415\n",
      "8678\n",
      "2215\n",
      "73049\n",
      "134424\n",
      "2294\n",
      "35273\n",
      "100549\n",
      "19108\n",
      "108635\n",
      "48672\n",
      "119282\n",
      "41441\n",
      "75646\n",
      "29205\n",
      "69079\n",
      "50518\n",
      "64681\n",
      "55340\n",
      "138442\n",
      "17000\n",
      "150769\n",
      "119509\n",
      "97229\n",
      "54931\n",
      "81419\n",
      "83358\n",
      "55054\n",
      "148809\n",
      "114904\n",
      "75063\n",
      "13797\n",
      "10560\n",
      "82169\n",
      "3.1877830028533936 segundos\n"
     ]
    }
   ],
   "source": [
    "start_time = time()\n",
    "#-----------------------------------------------------------------\n",
    "users = list(df['Device ID'].unique())\n",
    "for userID in users_top:\n",
    "    print(userID)\n",
    "    df_user = df[df['Device ID'] == userID]\n",
    "    df_user.to_csv(\"./users_Baleares/\"+str(userID)+\".csv\", sep='\\t', index=False)\n",
    "    #df_user.drop(df_user.index, inplace=True)\n",
    "#-----------------------------------------------------------------\n",
    "total_time = time() - start_time\n",
    "print(str(total_time) + \" segundos\")"
   ]
  },
  {
   "cell_type": "code",
   "execution_count": null,
   "metadata": {},
   "outputs": [],
   "source": []
  }
 ],
 "metadata": {
  "kernelspec": {
   "display_name": "Python 3",
   "language": "python",
   "name": "python3"
  },
  "language_info": {
   "codemirror_mode": {
    "name": "ipython",
    "version": 3
   },
   "file_extension": ".py",
   "mimetype": "text/x-python",
   "name": "python",
   "nbconvert_exporter": "python",
   "pygments_lexer": "ipython3",
   "version": "3.7.4"
  }
 },
 "nbformat": 4,
 "nbformat_minor": 2
}
