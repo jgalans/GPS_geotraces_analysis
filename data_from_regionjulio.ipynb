{
 "cells": [
  {
   "cell_type": "code",
   "execution_count": null,
   "metadata": {},
   "outputs": [],
   "source": [
    "import numpy as np \n",
    "import pandas as pd \n",
    "import math \n",
    "from sklearn import preprocessing\n",
    "import gmplot\n",
    "import matplotlib.pyplot as plt\n",
    "from time import time\n",
    "import operator\n",
    "from datetime import datetime"
   ]
  },
  {
   "cell_type": "code",
   "execution_count": null,
   "metadata": {},
   "outputs": [],
   "source": [
    "from geopy.geocoders import Nominatim\n",
    "import overpass\n",
    "import folium\n",
    "from folium import plugins\n",
    "from folium.plugins import HeatMap\n",
    "geolocator = Nominatim(user_agent=\"TFG\")"
   ]
  },
  {
   "cell_type": "code",
   "execution_count": null,
   "metadata": {},
   "outputs": [],
   "source": [
    "# dataframe con device ids legibles\n",
    "def device_ids_encoder(d):\n",
    "    le = preprocessing.LabelEncoder()\n",
    "    simple_ids=le.fit_transform(d['Device ID'].astype(str))    \n",
    "    d['Device ID'] = simple_ids  #d['Device ID'].replace(simple_ids)   avoids warning, but too slow   \n",
    "    return d\n",
    "\n",
    "# punto medio de un usuario\n",
    "def avg_location(d, user):\n",
    "\tj=0\n",
    "\tcoords = [0, 0]\n",
    "\tfor index, row in d.iterrows():\n",
    "\t\tif row['Device ID']==user:\n",
    "\t\t\tcoords[0] += float(row['Latitude'])\n",
    "\t\t\tcoords[1] += float(row['Longitude'])\n",
    "\t\t\tj += 1\n",
    "\n",
    "\tcoords[0] = coords[0]/j;\n",
    "\tcoords[1] = coords[1]/j;\n",
    "\treturn coords\n",
    "\n",
    "#Se obtiene un diccionario cuya clave es el user ID y el valor es un dataframe con las localizaciones del usuario\n",
    "def get_info_by_user(d):\n",
    "    users={}\n",
    "    \n",
    "    ids = list(d['Device ID'].unique())\n",
    "    \n",
    "    for x in ids:\n",
    "        users[x] = d[d['Device ID'] == x]\n",
    "        users[x] = users[x].sort_values(by='Time Stamp')\n",
    "        users[x] = users[x].reset_index(drop=True)\n",
    "            \n",
    "    return users\n",
    "\n",
    "# top n de usuarios por numero de localizaciones\n",
    "def top_n_users(users, n):\n",
    "\tusers_num_locations = {}\n",
    "\tusers_top_n = {}\n",
    "\ti=0\n",
    "\n",
    "\tfor k,v in users.items():\n",
    "\t\tusers_num_locations[k] = len(v)\n",
    "\n",
    "\tusers_num_locations = dict(sorted(users_num_locations.items(), key=operator.itemgetter(1), reverse=True))\n",
    "    \n",
    "\tfor k,v in users_num_locations.items():\n",
    "\t\tif i==n:\n",
    "\t\t\tbreak\n",
    "\t\tusers_top_n[k] = users[k]\n",
    "\t\ti+=1\n",
    "    \n",
    "\treturn users_top_n"
   ]
  },
  {
   "cell_type": "markdown",
   "metadata": {},
   "source": [
    "### Getting data from csv"
   ]
  },
  {
   "cell_type": "code",
   "execution_count": null,
   "metadata": {},
   "outputs": [],
   "source": [
    "start_time = time()\n",
    "#-----------------------------------------------------------------\n",
    "# read csv\n",
    "df_raw = pd.read_csv('balearesjulio.csv', sep = ',')\n",
    "#-----------------------------------------------------------------\n",
    "total_time = time() - start_time\n",
    "print(str(total_time) + \" segundos\")"
   ]
  },
  {
   "cell_type": "code",
   "execution_count": null,
   "metadata": {},
   "outputs": [],
   "source": [
    "df=df_raw\n",
    "len(df_raw)"
   ]
  },
  {
   "cell_type": "code",
   "execution_count": null,
   "metadata": {},
   "outputs": [],
   "source": [
    "df.insert(1, 'Date Time', df['Time Stamp'].apply(lambda x: datetime.fromtimestamp(x)))\n",
    "df = df.sort_values(by='Time Stamp')\n",
    "df = df.reset_index(drop=True)"
   ]
  },
  {
   "cell_type": "code",
   "execution_count": null,
   "metadata": {},
   "outputs": [],
   "source": [
    "print(\"\\nDataset original:\")\n",
    "df.head()"
   ]
  },
  {
   "cell_type": "markdown",
   "metadata": {},
   "source": [
    "Número de usuarios distintos:"
   ]
  },
  {
   "cell_type": "code",
   "execution_count": null,
   "metadata": {},
   "outputs": [],
   "source": [
    "len(df['Device ID'].unique())"
   ]
  },
  {
   "cell_type": "code",
   "execution_count": null,
   "metadata": {},
   "outputs": [],
   "source": [
    "describe_table = df.describe()\n",
    "describe_table.round(3)"
   ]
  },
  {
   "cell_type": "markdown",
   "metadata": {},
   "source": [
    "### Creamos una caspeta y un csv para cada usuario"
   ]
  },
  {
   "cell_type": "code",
   "execution_count": null,
   "metadata": {},
   "outputs": [],
   "source": [
    "users_top = []\n",
    "users = list(df['Device ID'].unique())\n",
    "for userID in users:\n",
    "    if len(df[df['Device ID'] == userID]) > 850:\n",
    "        users_top.append(userID)\n",
    "len(users_top)"
   ]
  },
  {
   "cell_type": "code",
   "execution_count": null,
   "metadata": {},
   "outputs": [],
   "source": [
    "start_time = time()\n",
    "#-----------------------------------------------------------------\n",
    "users = list(df['Device ID'].unique())\n",
    "for userID in users_top:\n",
    "    print(userID)\n",
    "    df_user = df[df['Device ID'] == userID]\n",
    "    df_user.to_csv(\"./users_Baleares/\"+str(userID)+\".csv\", sep='\\t', index=False)\n",
    "    #df_user.drop(df_user.index, inplace=True)\n",
    "#-----------------------------------------------------------------\n",
    "total_time = time() - start_time\n",
    "print(str(total_time) + \" segundos\")"
   ]
  },
  {
   "cell_type": "code",
   "execution_count": null,
   "metadata": {},
   "outputs": [],
   "source": []
  }
 ],
 "metadata": {
  "kernelspec": {
   "display_name": "Python 3",
   "language": "python",
   "name": "python3"
  },
  "language_info": {
   "codemirror_mode": {
    "name": "ipython",
    "version": 3
   },
   "file_extension": ".py",
   "mimetype": "text/x-python",
   "name": "python",
   "nbconvert_exporter": "python",
   "pygments_lexer": "ipython3",
   "version": "3.7.4"
  }
 },
 "nbformat": 4,
 "nbformat_minor": 2
}
