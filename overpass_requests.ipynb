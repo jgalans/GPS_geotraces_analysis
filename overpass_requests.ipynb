{
 "cells": [
  {
   "cell_type": "code",
   "execution_count": null,
   "metadata": {},
   "outputs": [],
   "source": [
    "import numpy as np \n",
    "import pandas as pd \n",
    "import math \n",
    "from time import time\n",
    "import operator\n",
    "from datetime import datetime\n",
    "import overpass\n",
    "import glob"
   ]
  },
  {
   "cell_type": "code",
   "execution_count": null,
   "metadata": {},
   "outputs": [],
   "source": [
    "import requests\n",
    "import json\n",
    "import sys\n",
    "\n",
    "#overpass_url = \"http://lz4.overpass-api.de/api/interpreter\"\n",
    "overpass_url = \"http://z.overpass-api.de/api/interpreter\"\n",
    "api = overpass.API(timeout=600)"
   ]
  },
  {
   "cell_type": "code",
   "execution_count": null,
   "metadata": {},
   "outputs": [],
   "source": [
    "#COLORS\n",
    "TBLUE  = '\\033[34m'\n",
    "TRED  = '\\033[91m'\n",
    "TBLACK = '\\033[30m'\n",
    "TWHITE = '\\033[37m'\n",
    "TGREEN =  '\\033[92m' \n",
    "BOLD = '\\033[1m'"
   ]
  },
  {
   "cell_type": "markdown",
   "metadata": {},
   "source": [
    "## Queries Overpass (Bus, Train, Airplane, Fuel Station)"
   ]
  },
  {
   "cell_type": "code",
   "execution_count": null,
   "metadata": {},
   "outputs": [],
   "source": [
    "overpass_queries = ['Bus', 'Train', 'Fuel Station']\n",
    "\n",
    "def overpass_query(mode, accuracy, lat, long):\n",
    "    if mode == 'Bus':\n",
    "        overpass_query_bus = \"\"\"\n",
    "            [out:json];\n",
    "            ( \n",
    "                node[\"highway\"=\"bus_stop\"](around:\"\"\"+str(accuracy)+\"\"\",\"\"\"+str(lat)+\"\"\", \"\"\"+str(long)+\"\"\");\n",
    "                node[\"amenity\"=\"bus_station\"](around:\"\"\"+str(accuracy)+\"\"\",\"\"\"+str(lat)+\"\"\", \"\"\"+str(long)+\"\"\");\n",
    "                way[\"highway\"=\"bus_stop\"](around:\"\"\"+str(accuracy)+\"\"\",\"\"\"+str(lat)+\"\"\", \"\"\"+str(long)+\"\"\");\n",
    "                way[\"amenity\"=\"bus_station\"](around:\"\"\"+str(accuracy)+\"\"\",\"\"\"+str(lat)+\"\"\", \"\"\"+str(long)+\"\"\");\n",
    "            );\n",
    "            out body;\n",
    "            \"\"\"\n",
    "        return overpass_query_bus\n",
    "    elif mode == 'Train':\n",
    "        overpass_query_train = \"\"\"\n",
    "            [out:json];\n",
    "            ( \n",
    "                node[\"railway\"](around:\"\"\"+str(accuracy)+\"\"\",\"\"\"+str(lat)+\"\"\", \"\"\"+str(long)+\"\"\");\n",
    "                way[\"railway\"](around:\"\"\"+str(accuracy)+\"\"\",\"\"\"+str(lat)+\"\"\", \"\"\"+str(long)+\"\"\");\n",
    "            );\n",
    "            out body;\n",
    "            \"\"\"\n",
    "        return overpass_query_train\n",
    "    elif mode == 'Airplane':\n",
    "        overpass_query_airplane = \"\"\"\n",
    "            [out:json];\n",
    "            ( \n",
    "                node[\"aeroway\"=\"aerodrome\"](around:\"\"\"+str(accuracy)+\"\"\",\"\"\"+str(lat)+\"\"\", \"\"\"+str(long)+\"\"\");\n",
    "                way[\"aeroway\"=\"aerodrome\"](around:\"\"\"+str(accuracy)+\"\"\",\"\"\"+str(lat)+\"\"\", \"\"\"+str(long)+\"\"\");\n",
    "            );\n",
    "            out body;\n",
    "            \"\"\"\n",
    "        return overpass_query_airplane\n",
    "    elif mode == 'Fuel_station':\n",
    "        overpass_query_fuel_station = \"\"\"\n",
    "            [out:json];\n",
    "            ( \n",
    "                node[\"amenity\"=\"fuel\"](around:\"\"\"+str(accuracy)+\"\"\",\"\"\"+str(lat)+\"\"\", \"\"\"+str(long)+\"\"\");\n",
    "                way[\"amenity\"=\"fuel\"](around:\"\"\"+str(accuracy)+\"\"\",\"\"\"+str(lat)+\"\"\", \"\"\"+str(long)+\"\"\");\n",
    "            );\n",
    "            out body;\n",
    "            \"\"\"\n",
    "        return overpass_query_fuel_station"
   ]
  },
  {
   "cell_type": "markdown",
   "metadata": {},
   "source": [
    "### Requesting to Overpass"
   ]
  },
  {
   "cell_type": "code",
   "execution_count": null,
   "metadata": {},
   "outputs": [],
   "source": [
    "from requests.exceptions import ConnectionError\n",
    "import time as tm\n",
    "\n",
    "start_time = tm.time()\n",
    "#-----------------------------------------------------------------\n",
    "\n",
    "path = './users_Baleares' # use your path\n",
    "all_files = glob.glob(path + \"/*.csv\")\n",
    "\n",
    "for csv_user in all_files:\n",
    "    user = csv_user.split('/')[-1]\n",
    "    df_aux = pd.read_csv(csv_user, sep = '\\t')\n",
    "    df_aux['Bus'] = False\n",
    "    df_aux['Train'] = False\n",
    "    #df_aux['Airplane'] = False\n",
    "    df_aux['Fuel Station'] = False\n",
    "    \n",
    "    print(TBLUE + csv_user)\n",
    "\n",
    "    for i, row in df_aux.iterrows():\n",
    "        timestamp = row['Time Stamp']\n",
    "        time = row['Date Time']\n",
    "        lat = row['Latitude']\n",
    "        long = row['Longitude']\n",
    "        \n",
    "        for k in overpass_queries:\n",
    "            accuracy = 50\n",
    "\n",
    "            try:\n",
    "                response = requests.get(overpass_url, params={'data': overpass_query(k, accuracy, lat, long)})\n",
    "            except ConnectionError as e:\n",
    "                # Whoops it wasn't a 200\n",
    "                print(TRED+'Overpass Server reeboting...\\nConnectionError: '+str(e)+'\\n\\n')\n",
    "                tm.sleep(60*5)\n",
    "                continue\n",
    "                \n",
    "            try:\n",
    "                data = response.json()\n",
    "            except ValueError:\n",
    "                #print(row)\n",
    "                #print(TBLACK+str(lat), str(long))\n",
    "                #print(TBLACK+str(time))\n",
    "                #print(TRED+'JSONDecodeError')\n",
    "                continue\n",
    "\n",
    "            if data['elements']:\n",
    "                #print(TGREEN+\"\"+k+\" tag found!\")\n",
    "                df_aux.at[i, k] = True\n",
    "                #print(TBLACK+str(lat), str(long))\n",
    "                #print(TBLACK+str(time))\n",
    "                #print(TGREEN+str(response)) #<Response [200]>\n",
    "                #print(TWHITE+str(data)+'\\n\\n')\n",
    "\n",
    "        df_aux.to_csv(\"./users_Baleares_tags/\"+user, sep='\\t', index=False)\n",
    "        \n",
    "#-----------------------------------------------------------------\n",
    "total_time = tm.time() - start_time\n",
    "print(str(total_time/3600) + \" horas\")"
   ]
  },
  {
   "cell_type": "markdown",
   "metadata": {},
   "source": [
    "#### Error cuando se resetea el servido de overpass todos los días a las 01.00 hora peninsular (España)"
   ]
  },
  {
   "cell_type": "code",
   "execution_count": null,
   "metadata": {},
   "outputs": [],
   "source": [
    "ConnectionError: ('Connection aborted.', RemoteDisconnected('Remote end closed connection without response'))"
   ]
  }
 ],
 "metadata": {
  "kernelspec": {
   "display_name": "Python 3",
   "language": "python",
   "name": "python3"
  },
  "language_info": {
   "codemirror_mode": {
    "name": "ipython",
    "version": 3
   },
   "file_extension": ".py",
   "mimetype": "text/x-python",
   "name": "python",
   "nbconvert_exporter": "python",
   "pygments_lexer": "ipython3",
   "version": "3.7.4"
  }
 },
 "nbformat": 4,
 "nbformat_minor": 2
}
